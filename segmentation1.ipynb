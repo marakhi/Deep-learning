{
 "cells": [
  {
   "cell_type": "code",
   "execution_count": 1,
   "metadata": {},
   "outputs": [
    {
     "name": "stderr",
     "output_type": "stream",
     "text": [
      "C:\\Users\\Marakhi\\Anaconda3\\lib\\site-packages\\h5py\\__init__.py:36: FutureWarning: Conversion of the second argument of issubdtype from `float` to `np.floating` is deprecated. In future, it will be treated as `np.float64 == np.dtype(float).type`.\n",
      "  from ._conv import register_converters as _register_converters\n",
      "Using TensorFlow backend.\n"
     ]
    }
   ],
   "source": [
    "import cv2\n",
    "import matplotlib.pyplot as plt\n",
    "import os\n",
    "from PIL import Image\n",
    "import glob\n",
    "os.getcwd()\n",
    "\n",
    "import math\n",
    "import numpy as np\n",
    "import h5py\n",
    "import matplotlib.pyplot as plt\n",
    "import tensorflow as tf\n",
    "from tensorflow.python.framework import ops\n",
    "#from tf_utils import load_dataset, random_mini_batches, convert_to_one_hot, predict\n",
    "\n",
    "%matplotlib inline\n",
    "np.random.seed(1)\n",
    "\n",
    "import numpy as np\n",
    "import keras \n",
    "from keras import layers\n",
    "from keras.layers import Input, Dense, Activation, ZeroPadding2D, BatchNormalization, Flatten, Conv2D\n",
    "from keras.layers import AveragePooling2D, MaxPooling2D, Dropout, GlobalMaxPooling2D, GlobalAveragePooling2D, Conv2DTranspose, concatenate\n",
    "from keras.models import Model\n",
    "from keras.preprocessing import image\n",
    "from keras.utils import layer_utils\n",
    "from keras.utils.data_utils import get_file\n",
    "from keras.applications.imagenet_utils import preprocess_input\n",
    "from keras.utils import to_categorical\n",
    "#import pydot\n",
    "from IPython.display import SVG\n",
    "from keras.utils.vis_utils import model_to_dot\n",
    "from keras.utils import plot_model\n",
    "#from kt_utils import *\n",
    "\n",
    "import keras.backend as K\n",
    "K.set_image_data_format('channels_last')\n",
    "import matplotlib.pyplot as plt\n",
    "from matplotlib.pyplot import imshow\n",
    "\n",
    "%matplotlib inline\n",
    "\n",
    "\n",
    "from numpy import genfromtxt"
   ]
  },
  {
   "cell_type": "code",
   "execution_count": 106,
   "metadata": {},
   "outputs": [],
   "source": [
    "im=cv2.imread('C:\\\\Users\\\\Marakhi\\\\Desktop\\\\Deep learning ajay bhammar\\\\Deep learning exercise\\\\segmentation\\\\peanut\\\\0\\\\car.jpg',1)"
   ]
  },
  {
   "cell_type": "code",
   "execution_count": 127,
   "metadata": {},
   "outputs": [
    {
     "data": {
      "text/plain": [
       "<matplotlib.image.AxesImage at 0x1aa02e1beb8>"
      ]
     },
     "execution_count": 127,
     "metadata": {},
     "output_type": "execute_result"
    },
    {
     "data": {
      "image/png": "[encoded data removed]",
      "text/plain": [
       "<Figure size 432x288 with 1 Axes>"
      ]
     },
     "metadata": {},
     "output_type": "display_data"
    }
   ],
   "source": [
    "edges = cv2.Canny(im[:500,:500,:],-100,150)\n",
    "plt.imshow(edges)"
   ]
  },
  {
   "cell_type": "code",
   "execution_count": 18,
   "metadata": {},
   "outputs": [
    {
     "ename": "TypeError",
     "evalue": "Image data cannot be converted to float",
     "output_type": "error",
     "traceback": [
      "\u001b[1;31m---------------------------------------------------------------------------\u001b[0m",
      "\u001b[1;31mTypeError\u001b[0m                                 Traceback (most recent call last)",
      "\u001b[1;32m<ipython-input-18-a9282a591582>\u001b[0m in \u001b[0;36m<module>\u001b[1;34m()\u001b[0m\n\u001b[1;32m----> 1\u001b[1;33m \u001b[0mplt\u001b[0m\u001b[1;33m.\u001b[0m\u001b[0mimshow\u001b[0m\u001b[1;33m(\u001b[0m\u001b[0mim\u001b[0m\u001b[1;33m)\u001b[0m\u001b[1;33m\u001b[0m\u001b[0m\n\u001b[0m",
      "\u001b[1;32m~\\Anaconda3\\lib\\site-packages\\matplotlib\\pyplot.py\u001b[0m in \u001b[0;36mimshow\u001b[1;34m(X, cmap, norm, aspect, interpolation, alpha, vmin, vmax, origin, extent, shape, filternorm, filterrad, imlim, resample, url, hold, data, **kwargs)\u001b[0m\n\u001b[0;32m   3203\u001b[0m                         \u001b[0mfilternorm\u001b[0m\u001b[1;33m=\u001b[0m\u001b[0mfilternorm\u001b[0m\u001b[1;33m,\u001b[0m \u001b[0mfilterrad\u001b[0m\u001b[1;33m=\u001b[0m\u001b[0mfilterrad\u001b[0m\u001b[1;33m,\u001b[0m\u001b[1;33m\u001b[0m\u001b[0m\n\u001b[0;32m   3204\u001b[0m                         \u001b[0mimlim\u001b[0m\u001b[1;33m=\u001b[0m\u001b[0mimlim\u001b[0m\u001b[1;33m,\u001b[0m \u001b[0mresample\u001b[0m\u001b[1;33m=\u001b[0m\u001b[0mresample\u001b[0m\u001b[1;33m,\u001b[0m \u001b[0murl\u001b[0m\u001b[1;33m=\u001b[0m\u001b[0murl\u001b[0m\u001b[1;33m,\u001b[0m \u001b[0mdata\u001b[0m\u001b[1;33m=\u001b[0m\u001b[0mdata\u001b[0m\u001b[1;33m,\u001b[0m\u001b[1;33m\u001b[0m\u001b[0m\n\u001b[1;32m-> 3205\u001b[1;33m                         **kwargs)\n\u001b[0m\u001b[0;32m   3206\u001b[0m     \u001b[1;32mfinally\u001b[0m\u001b[1;33m:\u001b[0m\u001b[1;33m\u001b[0m\u001b[0m\n\u001b[0;32m   3207\u001b[0m         \u001b[0max\u001b[0m\u001b[1;33m.\u001b[0m\u001b[0m_hold\u001b[0m \u001b[1;33m=\u001b[0m \u001b[0mwashold\u001b[0m\u001b[1;33m\u001b[0m\u001b[0m\n",
      "\u001b[1;32m~\\Anaconda3\\lib\\site-packages\\matplotlib\\__init__.py\u001b[0m in \u001b[0;36minner\u001b[1;34m(ax, *args, **kwargs)\u001b[0m\n\u001b[0;32m   1853\u001b[0m                         \u001b[1;34m\"the Matplotlib list!)\"\u001b[0m \u001b[1;33m%\u001b[0m \u001b[1;33m(\u001b[0m\u001b[0mlabel_namer\u001b[0m\u001b[1;33m,\u001b[0m \u001b[0mfunc\u001b[0m\u001b[1;33m.\u001b[0m\u001b[0m__name__\u001b[0m\u001b[1;33m)\u001b[0m\u001b[1;33m,\u001b[0m\u001b[1;33m\u001b[0m\u001b[0m\n\u001b[0;32m   1854\u001b[0m                         RuntimeWarning, stacklevel=2)\n\u001b[1;32m-> 1855\u001b[1;33m             \u001b[1;32mreturn\u001b[0m \u001b[0mfunc\u001b[0m\u001b[1;33m(\u001b[0m\u001b[0max\u001b[0m\u001b[1;33m,\u001b[0m \u001b[1;33m*\u001b[0m\u001b[0margs\u001b[0m\u001b[1;33m,\u001b[0m \u001b[1;33m**\u001b[0m\u001b[0mkwargs\u001b[0m\u001b[1;33m)\u001b[0m\u001b[1;33m\u001b[0m\u001b[0m\n\u001b[0m\u001b[0;32m   1856\u001b[0m \u001b[1;33m\u001b[0m\u001b[0m\n\u001b[0;32m   1857\u001b[0m         inner.__doc__ = _add_data_doc(inner.__doc__,\n",
      "\u001b[1;32m~\\Anaconda3\\lib\\site-packages\\matplotlib\\axes\\_axes.py\u001b[0m in \u001b[0;36mimshow\u001b[1;34m(self, X, cmap, norm, aspect, interpolation, alpha, vmin, vmax, origin, extent, shape, filternorm, filterrad, imlim, resample, url, **kwargs)\u001b[0m\n\u001b[0;32m   5485\u001b[0m                               resample=resample, **kwargs)\n\u001b[0;32m   5486\u001b[0m \u001b[1;33m\u001b[0m\u001b[0m\n\u001b[1;32m-> 5487\u001b[1;33m         \u001b[0mim\u001b[0m\u001b[1;33m.\u001b[0m\u001b[0mset_data\u001b[0m\u001b[1;33m(\u001b[0m\u001b[0mX\u001b[0m\u001b[1;33m)\u001b[0m\u001b[1;33m\u001b[0m\u001b[0m\n\u001b[0m\u001b[0;32m   5488\u001b[0m         \u001b[0mim\u001b[0m\u001b[1;33m.\u001b[0m\u001b[0mset_alpha\u001b[0m\u001b[1;33m(\u001b[0m\u001b[0malpha\u001b[0m\u001b[1;33m)\u001b[0m\u001b[1;33m\u001b[0m\u001b[0m\n\u001b[0;32m   5489\u001b[0m         \u001b[1;32mif\u001b[0m \u001b[0mim\u001b[0m\u001b[1;33m.\u001b[0m\u001b[0mget_clip_path\u001b[0m\u001b[1;33m(\u001b[0m\u001b[1;33m)\u001b[0m \u001b[1;32mis\u001b[0m \u001b[1;32mNone\u001b[0m\u001b[1;33m:\u001b[0m\u001b[1;33m\u001b[0m\u001b[0m\n",
      "\u001b[1;32m~\\Anaconda3\\lib\\site-packages\\matplotlib\\image.py\u001b[0m in \u001b[0;36mset_data\u001b[1;34m(self, A)\u001b[0m\n\u001b[0;32m    647\u001b[0m         if (self._A.dtype != np.uint8 and\n\u001b[0;32m    648\u001b[0m                 not np.can_cast(self._A.dtype, float, \"same_kind\")):\n\u001b[1;32m--> 649\u001b[1;33m             \u001b[1;32mraise\u001b[0m \u001b[0mTypeError\u001b[0m\u001b[1;33m(\u001b[0m\u001b[1;34m\"Image data cannot be converted to float\"\u001b[0m\u001b[1;33m)\u001b[0m\u001b[1;33m\u001b[0m\u001b[0m\n\u001b[0m\u001b[0;32m    650\u001b[0m \u001b[1;33m\u001b[0m\u001b[0m\n\u001b[0;32m    651\u001b[0m         if not (self._A.ndim == 2\n",
      "\u001b[1;31mTypeError\u001b[0m: Image data cannot be converted to float"
     ]
    },
    {
     "data": {
      "image/png": "[encoded data removed]",
      "text/plain": [
       "<Figure size 432x288 with 1 Axes>"
      ]
     },
     "metadata": {},
     "output_type": "display_data"
    }
   ],
   "source": [
    "plt.imshow(im)"
   ]
  },
  {
   "cell_type": "code",
   "execution_count": 40,
   "metadata": {},
   "outputs": [
    {
     "data": {
      "text/plain": [
       "array([0, 0, 0, 0, 0, 0, 0, 0, 0, 0, 0, 0, 0, 0, 0, 0, 0, 0, 0, 0, 0, 0,\n",
       "       0, 0, 0, 0, 0, 0, 0, 0, 0, 0, 0, 0, 0, 0, 0, 0, 0, 0, 0, 0, 0, 0,\n",
       "       0, 0, 0, 0, 0, 0, 0, 0, 0, 0, 0, 0, 0, 0, 0, 0, 0, 0, 0, 0, 0, 0,\n",
       "       0, 0, 0, 0, 0, 0, 0, 0, 0, 0, 0, 0, 0, 0, 0, 0, 0, 0, 0, 0, 0, 0,\n",
       "       0, 0, 0, 0, 0, 0, 0, 0, 0, 0, 0, 0, 0, 0, 0, 0, 0, 0, 0, 0, 0, 0,\n",
       "       0, 0, 0, 0, 0, 0, 0, 0, 0, 0, 0, 0, 0, 0, 0, 0, 0, 0, 0, 0, 0, 0,\n",
       "       0, 0, 0, 0, 0, 0, 0, 0, 0, 0, 0, 0, 0, 0, 0, 0, 0, 0, 0, 0, 0, 0,\n",
       "       0, 0, 0, 0, 0, 0, 0, 0, 0, 0, 0, 0, 0, 0, 0, 0, 0, 0, 0, 0, 0, 0,\n",
       "       0, 0, 0, 0, 0, 0, 0, 0, 0, 0, 0, 0, 0, 0, 0, 0, 0, 0, 0, 0, 0, 0,\n",
       "       0, 0, 0, 0, 0, 0, 0, 0, 0, 0, 0, 0, 0, 0, 0, 0, 0, 0, 0, 0, 0, 0,\n",
       "       0, 0, 0, 0, 0, 0, 0, 0, 0, 0, 0, 0, 0, 0, 0, 0, 0, 0, 0, 0, 0, 0,\n",
       "       0, 0, 0, 0, 0, 0, 0, 0, 0, 0, 0, 0, 0, 0, 0, 0, 0, 0, 0, 0, 0, 0,\n",
       "       0, 0, 0, 0, 0, 0, 0, 0, 0, 0, 0, 0, 0, 0, 0, 0, 0, 0, 0, 0, 0, 0,\n",
       "       0, 0, 0, 0, 0, 0, 0, 0, 0, 0, 0, 0, 0, 0, 0, 0, 0, 0, 0, 0, 0, 0,\n",
       "       0, 0, 0, 0, 0, 0, 0, 0, 0, 0, 0, 0, 0, 0, 0, 0, 0, 0, 0, 0, 0, 0,\n",
       "       0, 0, 0, 0, 0, 0, 0, 0, 0, 0, 0, 0, 0, 0, 0, 0, 0, 0, 0, 0, 0, 0,\n",
       "       0, 0, 0, 0, 0, 0, 0, 0, 0, 0, 0, 0, 0, 0, 0, 0, 0, 0, 0, 0, 1, 1,\n",
       "       1, 1, 1, 1, 1, 1, 1, 1, 1, 1, 1, 1, 1, 1, 1, 1, 1, 1, 1, 1, 1, 1,\n",
       "       1, 1, 1, 1, 1, 1, 1, 1, 1, 1, 1, 1, 1, 1, 1, 1, 1, 1, 1, 1, 1, 1,\n",
       "       1, 1, 1, 1, 1, 1, 1, 1, 1, 1, 1, 1, 1, 1, 1, 1, 1, 1, 1, 1, 1, 1,\n",
       "       1, 1, 1, 1, 1, 1, 1, 1, 1, 1, 1, 1, 1, 1, 1, 1, 1, 1, 1, 1, 1, 1,\n",
       "       1, 1, 1, 1, 1, 1, 1, 1, 1, 1, 1, 1, 1, 1, 1, 1, 1, 1, 1, 1, 1, 1,\n",
       "       1, 1, 1, 1, 1, 1, 1, 1, 1, 1, 1, 1, 1, 1, 1, 1, 1, 1, 1, 1, 1, 1,\n",
       "       1, 1, 1, 1, 1, 1, 1, 1, 1, 1, 1, 1, 1, 1, 1, 1, 1, 1, 1, 1, 1, 1,\n",
       "       1, 1, 1, 1, 1, 1, 1, 1, 1, 1, 1, 1, 1, 1, 1, 1, 1, 1, 1, 1, 1, 1,\n",
       "       1, 1, 1, 1, 1, 1, 1, 1, 1, 1, 1, 1, 1, 1, 1, 1, 1, 1, 1, 1, 1, 1,\n",
       "       1, 1, 1, 1, 1, 1, 1, 1, 1, 1, 1, 1, 1, 1, 1, 1, 1, 1, 1, 1, 1, 1,\n",
       "       1, 1, 1, 1, 1, 1, 1, 1, 1, 1, 1, 1, 1, 1, 1, 1, 1, 1, 1, 1, 1, 1,\n",
       "       1, 1, 1, 1, 1, 1, 1, 1, 1, 1, 1, 1, 1, 1, 1, 1, 1, 1, 1, 1, 1, 1,\n",
       "       1, 1, 1, 1, 1, 1, 1, 1, 1, 1, 1, 1, 1, 1, 1, 1, 1, 1, 1, 1, 1, 1,\n",
       "       1, 1, 1, 1, 1, 1, 1, 1, 1, 1, 1, 1, 1, 1, 1, 1, 1, 1, 1, 1, 1, 1,\n",
       "       1, 1, 1, 1, 1, 1, 1, 1, 1, 1, 1, 1, 1, 1, 1, 1, 1, 1, 1, 1, 1, 1,\n",
       "       1, 1, 1, 1, 1, 1, 1, 1, 1, 1, 1, 1, 1, 1, 1, 1, 1, 1, 1, 1, 1, 1,\n",
       "       1, 1, 1, 1, 1, 1, 1, 1, 1, 1, 1, 1, 1, 1, 1, 1, 1, 1, 1, 1, 1, 1,\n",
       "       1, 1, 1, 1, 1, 1, 1, 1], dtype=uint8)"
      ]
     },
     "execution_count": 40,
     "metadata": {},
     "output_type": "execute_result"
    }
   ],
   "source": [
    "y_train = np.zeros(186*2)\n",
    "y_train = np.concatenate((y_train, np.ones(192*2)), axis=None)\n",
    "y_train.astype(np.uint8)"
   ]
  },
  {
   "cell_type": "code",
   "execution_count": 2,
   "metadata": {},
   "outputs": [],
   "source": [
    "for i in range(0,220,1):\n",
    "    file_name = 'C:\\\\Users\\\\Marakhi\\\\Desktop\\\\Deep learning ajay bhammar\\\\Deep learning exercise\\\\segmentation\\\\peanut\\\\'+str(i)+'\\\\img.PNG'\n",
    "    im = cv2.imread(file_name)\n",
    "    edges = cv2.Canny(im,100,200)\n",
    "    cv2.imwrite('C:\\\\Users\\\\Marakhi\\\\Desktop\\\\Deep learning ajay bhammar\\\\Deep learning exercise\\\\segmentation\\\\peanut\\\\'+str(i)+'\\\\edges.PNG', edges) "
   ]
  },
  {
   "cell_type": "code",
   "execution_count": 11,
   "metadata": {},
   "outputs": [
    {
     "name": "stdout",
     "output_type": "stream",
     "text": [
      "(220, 1225)\n",
      "(220, 35, 35, 3)\n"
     ]
    }
   ],
   "source": [
    "k = 0\n",
    "for i in range(0,220,1):\n",
    "    file_name = 'C:\\\\Users\\\\Marakhi\\\\Desktop\\\\Deep learning ajay bhammar\\\\Deep learning exercise\\\\segmentation\\\\peanut\\\\'+str(i)+'\\\\edges.PNG'\n",
    "    file_name1 = 'C:\\\\Users\\\\Marakhi\\\\Desktop\\\\Deep learning ajay bhammar\\\\Deep learning exercise\\\\segmentation\\\\peanut\\\\'+str(i)+'\\\\img.PNG'\n",
    "    im = cv2.imread(file_name)\n",
    "    im = im[:,:,0].ravel()\n",
    "    im1 = cv2.imread(file_name1)\n",
    "    #print(file_name)\n",
    "    #plt.imshow(im)\n",
    "    #imshow(im)\n",
    "    if k==0:\n",
    "        y_train=np.expand_dims(im, axis=0)\n",
    "        x_train=np.expand_dims(im1, axis=0)\n",
    "        k = k+1\n",
    "    else:\n",
    "        y_train = np.concatenate((y_train, np.expand_dims(im, axis=0)), axis=0) \n",
    "        x_train = np.concatenate((x_train, np.expand_dims(im1, axis=0)), axis=0)\n",
    "print(y_train.shape)\n",
    "print(x_train.shape)"
   ]
  },
  {
   "cell_type": "code",
   "execution_count": 12,
   "metadata": {},
   "outputs": [
    {
     "name": "stdout",
     "output_type": "stream",
     "text": [
      "[[0 0 0 0 0 0 0 0 0 0 0 0 0 0 0 0 0 0 0 0]\n",
      " [0 0 0 0 0 0 0 1 1 1 0 0 0 0 0 0 0 0 0 0]\n",
      " [0 0 0 0 1 1 1 0 0 0 1 1 1 0 0 0 0 0 0 0]\n",
      " [0 0 0 1 1 0 0 0 0 0 0 0 0 1 1 1 0 0 0 0]\n",
      " [0 0 1 1 0 0 0 0 0 0 0 0 0 0 0 1 1 1 0 0]\n",
      " [0 0 1 0 0 0 0 0 0 0 0 0 0 0 0 0 0 1 1 0]\n",
      " [0 0 1 0 0 0 0 0 0 0 0 0 0 0 0 0 0 0 1 1]\n",
      " [0 0 1 1 0 0 0 0 0 0 0 0 0 0 0 0 0 0 0 1]\n",
      " [0 0 0 1 1 0 0 0 0 0 0 0 0 0 0 0 0 0 0 0]\n",
      " [0 0 0 0 1 1 0 0 0 0 0 0 0 0 0 0 0 0 0 0]\n",
      " [0 0 0 0 0 1 1 0 0 0 0 0 0 0 0 0 0 0 0 0]\n",
      " [0 0 0 0 0 0 1 1 1 0 0 0 0 0 0 0 0 0 0 0]\n",
      " [0 0 0 0 0 0 0 0 1 1 0 0 0 0 0 0 0 0 0 0]\n",
      " [0 0 0 0 0 0 0 0 0 1 1 1 0 0 0 0 0 0 0 1]\n",
      " [0 0 0 0 0 0 0 0 0 0 0 1 1 1 1 1 1 1 1 1]\n",
      " [0 0 0 0 0 0 0 0 0 0 0 0 0 0 0 0 0 0 0 0]\n",
      " [0 0 0 0 0 0 0 0 0 0 0 0 0 0 0 0 0 0 0 0]\n",
      " [0 0 0 0 0 0 0 0 0 0 0 0 0 0 0 0 0 0 0 0]\n",
      " [0 0 0 0 0 0 0 0 0 0 0 0 0 0 0 0 0 0 0 0]\n",
      " [0 0 0 0 0 0 0 0 0 0 0 0 0 0 0 0 0 0 0 0]]\n"
     ]
    }
   ],
   "source": [
    "#imshow(y_train[219])\n",
    "y_train1 = (y_train/128).astype(int)\n",
    "#y_train2 = y_train1[:].ravel()\n",
    "#print(y_train[][600:1200]/128)\n",
    "print(y_train1[0][:].reshape(35,35)[5:25,5:25])"
   ]
  },
  {
   "cell_type": "code",
   "execution_count": 13,
   "metadata": {},
   "outputs": [
    {
     "name": "stdout",
     "output_type": "stream",
     "text": [
      "__________________________________________________________________________________________________\n",
      "Layer (type)                    Output Shape         Param #     Connected to                     \n",
      "==================================================================================================\n",
      "input_1 (InputLayer)            (None, 35, 35, 3)    0                                            \n",
      "__________________________________________________________________________________________________\n",
      "zero_padding2d_1 (ZeroPadding2D (None, 41, 41, 3)    0           input_1[0][0]                    \n",
      "__________________________________________________________________________________________________\n",
      "conv0 (Conv2D)                  (None, 39, 39, 16)   448         zero_padding2d_1[0][0]           \n",
      "__________________________________________________________________________________________________\n",
      "bn0 (BatchNormalization)        (None, 39, 39, 16)   64          conv0[0][0]                      \n",
      "__________________________________________________________________________________________________\n",
      "activation_1 (Activation)       (None, 39, 39, 16)   0           bn0[0][0]                        \n",
      "__________________________________________________________________________________________________\n",
      "conv1 (Conv2D)                  (None, 35, 35, 32)   12832       activation_1[0][0]               \n",
      "__________________________________________________________________________________________________\n",
      "bn1 (BatchNormalization)        (None, 35, 35, 32)   128         conv1[0][0]                      \n",
      "__________________________________________________________________________________________________\n",
      "activation_2 (Activation)       (None, 35, 35, 32)   0           bn1[0][0]                        \n",
      "__________________________________________________________________________________________________\n",
      "conv110 (Conv2D)                (None, 31, 31, 32)   25632       activation_2[0][0]               \n",
      "__________________________________________________________________________________________________\n",
      "bn110 (BatchNormalization)      (None, 31, 31, 32)   128         conv110[0][0]                    \n",
      "__________________________________________________________________________________________________\n",
      "activation_3 (Activation)       (None, 31, 31, 32)   0           bn110[0][0]                      \n",
      "__________________________________________________________________________________________________\n",
      "max_pool1 (MaxPooling2D)        (None, 15, 15, 32)   0           activation_3[0][0]               \n",
      "__________________________________________________________________________________________________\n",
      "conv2 (Conv2D)                  (None, 13, 13, 64)   18496       max_pool1[0][0]                  \n",
      "__________________________________________________________________________________________________\n",
      "bn2 (BatchNormalization)        (None, 13, 13, 64)   256         conv2[0][0]                      \n",
      "__________________________________________________________________________________________________\n",
      "activation_4 (Activation)       (None, 13, 13, 64)   0           bn2[0][0]                        \n",
      "__________________________________________________________________________________________________\n",
      "conv3 (Conv2D)                  (None, 9, 9, 64)     102464      activation_4[0][0]               \n",
      "__________________________________________________________________________________________________\n",
      "bn3 (BatchNormalization)        (None, 9, 9, 64)     256         conv3[0][0]                      \n",
      "__________________________________________________________________________________________________\n",
      "activation_5 (Activation)       (None, 9, 9, 64)     0           bn3[0][0]                        \n",
      "__________________________________________________________________________________________________\n",
      "conv4 (Conv2D)                  (None, 7, 7, 128)    73856       activation_5[0][0]               \n",
      "__________________________________________________________________________________________________\n",
      "bn4 (BatchNormalization)        (None, 7, 7, 128)    512         conv4[0][0]                      \n",
      "__________________________________________________________________________________________________\n",
      "activation_6 (Activation)       (None, 7, 7, 128)    0           bn4[0][0]                        \n",
      "__________________________________________________________________________________________________\n",
      "deconv_2 (Conv2DTranspose)      (None, 20, 20, 32)   802848      activation_6[0][0]               \n",
      "__________________________________________________________________________________________________\n",
      "bn14 (BatchNormalization)       (None, 20, 20, 32)   128         deconv_2[0][0]                   \n",
      "__________________________________________________________________________________________________\n",
      "activation_10 (Activation)      (None, 20, 20, 32)   0           bn14[0][0]                       \n",
      "__________________________________________________________________________________________________\n",
      "deconv_1 (Conv2DTranspose)      (None, 35, 35, 16)   12816       activation_3[0][0]               \n",
      "__________________________________________________________________________________________________\n",
      "deconv_3 (Conv2DTranspose)      (None, 35, 35, 32)   262176      activation_10[0][0]              \n",
      "__________________________________________________________________________________________________\n",
      "bn13 (BatchNormalization)       (None, 35, 35, 16)   64          deconv_1[0][0]                   \n",
      "__________________________________________________________________________________________________\n",
      "bn15 (BatchNormalization)       (None, 35, 35, 32)   128         deconv_3[0][0]                   \n",
      "__________________________________________________________________________________________________\n",
      "activation_9 (Activation)       (None, 35, 35, 16)   0           bn13[0][0]                       \n",
      "__________________________________________________________________________________________________\n",
      "activation_11 (Activation)      (None, 35, 35, 32)   0           bn15[0][0]                       \n",
      "__________________________________________________________________________________________________\n",
      "concatenate_1 (Concatenate)     (None, 35, 35, 51)   0           activation_9[0][0]               \n",
      "                                                                 activation_11[0][0]              \n",
      "                                                                 input_1[0][0]                    \n",
      "__________________________________________________________________________________________________\n",
      "final (Conv2D)                  (None, 35, 35, 1)    52          concatenate_1[0][0]              \n",
      "__________________________________________________________________________________________________\n",
      "activation_12 (Activation)      (None, 35, 35, 1)    0           final[0][0]                      \n",
      "__________________________________________________________________________________________________\n",
      "flatten_1 (Flatten)             (None, 1225)         0           activation_12[0][0]              \n",
      "==================================================================================================\n",
      "Total params: 1,313,284\n",
      "Trainable params: 1,312,452\n",
      "Non-trainable params: 832\n",
      "__________________________________________________________________________________________________\n"
     ]
    }
   ],
   "source": [
    "X_input = Input(x_train.shape[1:])\n",
    "\n",
    "X = ZeroPadding2D((3, 3))(X_input)\n",
    "\n",
    "X = Conv2D(16, (3, 3), strides = (1, 1), name = 'conv0')(X)\n",
    "X = BatchNormalization(axis = 3, name = 'bn0')(X)\n",
    "X = Activation('relu')(X)\n",
    "\n",
    "X = Conv2D(32, (5, 5), strides = (1, 1), name = 'conv1')(X)\n",
    "X = BatchNormalization(axis = 3, name = 'bn1')(X)\n",
    "X = Activation('relu')(X)\n",
    "\n",
    "X = Conv2D(32, (5, 5), strides = (1, 1), name = 'conv110')(X)\n",
    "X = BatchNormalization(axis = 3, name = 'bn110')(X)\n",
    "s1 = Activation('relu')(X)\n",
    "\n",
    "X = MaxPooling2D((2, 2), name='max_pool1')(s1)\n",
    "\n",
    "X = Conv2D(64, (3, 3), strides = (1, 1), name = 'conv2')(X)\n",
    "X = BatchNormalization(axis = 3, name = 'bn2')(X)\n",
    "X = Activation('relu')(X)\n",
    "\n",
    "X = Conv2D(64, (5, 5), strides = (1, 1), name = 'conv3')(X)\n",
    "X = BatchNormalization(axis = 3, name = 'bn3')(X)\n",
    "X = Activation('relu')(X)\n",
    "\n",
    "# X = MaxPooling2D((2, 2), name='max_pool2')(s2)\n",
    "\n",
    "X = Conv2D(128, (3, 3), strides = (1, 1), name = 'conv4')(X)\n",
    "X = BatchNormalization(axis = 3, name = 'bn4')(X)\n",
    "s2 = Activation('relu')(X)\n",
    "\n",
    "X = Conv2D(128, (5, 5), strides = (1, 1), name = 'conv5')(s2)\n",
    "X = BatchNormalization(axis = 3, name = 'bn5')(X)\n",
    "X = Activation('relu')(X)\n",
    "\n",
    "X = Conv2D(256, (3, 3), strides = (1, 1), name = 'conv6')(X)\n",
    "X = BatchNormalization(axis = 3, name = 'bn6')(X)\n",
    "X = Activation('relu')(X)\n",
    "\n",
    "# X = Conv2D(64, (5, 5), strides = (1, 1), name = 'conv7')(s4)\n",
    "# X = BatchNormalization(axis = 3, name = 'bn7')(X)\n",
    "# X = Activation('relu')(X)\n",
    "\n",
    "# X = Conv2D(64, (3, 3), strides = (1, 1), name = 'conv8')(X)\n",
    "# X = BatchNormalization(axis = 3, name = 'bn8')(X)\n",
    "# s5 = Activation('relu')(X)\n",
    "\n",
    "# X = Conv2D(64, (5, 5), strides = (1, 1), name = 'conv9')(s5)\n",
    "# X = BatchNormalization(axis = 3, name = 'bn9')(X)\n",
    "# X = Activation('relu')(X)\n",
    "\n",
    "# X = Conv2D(64, (3, 3), strides = (1, 1), name = 'conv10')(X)\n",
    "# X = BatchNormalization(axis = 3, name = 'bn10')(X)\n",
    "# s6 = Activation('relu')(X)\n",
    "\n",
    "# X = Conv2D(64, (5, 5), strides = (1, 1), name = 'conv11')(s6)\n",
    "# X = BatchNormalization(axis = 3, name = 'bn11')(X)\n",
    "# X = Activation('relu')(X)\n",
    "\n",
    "# X = Conv2D(64, (5, 5), strides = (1, 1), name = 'conv12')(X)\n",
    "# X = BatchNormalization(axis = 3, name = 'bn12')(X)\n",
    "# s7 = Activation('relu')(X)\n",
    "\n",
    "X = Conv2DTranspose(16, (5, 5), strides = (1, 1), name = 'deconv_1')(s1)\n",
    "X = BatchNormalization(axis = 3, name = 'bn13')(X)\n",
    "m1 = Activation('relu')(X)\n",
    "\n",
    "X = Conv2DTranspose(32, (14, 14), strides = (1, 1), name = 'deconv_2')(s2)\n",
    "X = BatchNormalization(axis = 3, name = 'bn14')(X)\n",
    "m2 = Activation('relu')(X)\n",
    "\n",
    "X = Conv2DTranspose(32, (16, 16), strides = (1, 1), name = 'deconv_3')(m2)\n",
    "X = BatchNormalization(axis = 3, name = 'bn15')(X)\n",
    "m3 = Activation('relu')(X)\n",
    "\n",
    "m = concatenate([m1, m3, X_input])\n",
    "\n",
    "final1 = Conv2D(1, (1, 1), strides = (1, 1), name = 'final')(m)\n",
    "final = Activation('sigmoid')(final1)\n",
    "\n",
    "Y = Flatten()(final)\n",
    "# Y = Dense(1225, activation='sigmoid', name='fc')(Y)\n",
    "\n",
    "model = Model(inputs = X_input, outputs = Y, name='HappyModel')\n",
    "\n",
    "model.summary()"
   ]
  },
  {
   "cell_type": "code",
   "execution_count": 70,
   "metadata": {},
   "outputs": [
    {
     "name": "stdout",
     "output_type": "stream",
     "text": [
      "Epoch 1/10\n",
      "210/210 [==============================] - 21s 101ms/step - loss: 0.0149 - acc: 0.9945\n",
      "Epoch 2/10\n",
      "210/210 [==============================] - 21s 99ms/step - loss: 0.0121 - acc: 0.9957\n",
      "Epoch 3/10\n",
      "210/210 [==============================] - 21s 100ms/step - loss: 0.0115 - acc: 0.9960\n",
      "Epoch 4/10\n",
      "210/210 [==============================] - 21s 100ms/step - loss: 0.0105 - acc: 0.9964\n",
      "Epoch 5/10\n",
      "210/210 [==============================] - 21s 100ms/step - loss: 0.0105 - acc: 0.9964\n",
      "Epoch 6/10\n",
      "210/210 [==============================] - 21s 100ms/step - loss: 0.0092 - acc: 0.9970\n",
      "Epoch 7/10\n",
      "210/210 [==============================] - 21s 100ms/step - loss: 0.0092 - acc: 0.9968\n",
      "Epoch 8/10\n",
      "210/210 [==============================] - 21s 100ms/step - loss: 0.0078 - acc: 0.9976\n",
      "Epoch 9/10\n",
      "210/210 [==============================] - 22s 103ms/step - loss: 0.0066 - acc: 0.9980\n",
      "Epoch 10/10\n",
      "210/210 [==============================] - 21s 101ms/step - loss: 0.0073 - acc: 0.9978\n"
     ]
    },
    {
     "data": {
      "text/plain": [
       "<keras.callbacks.History at 0x1aa7bf6b860>"
      ]
     },
     "execution_count": 70,
     "metadata": {},
     "output_type": "execute_result"
    }
   ],
   "source": [
    "#model.compile('adam', 'binary_crossentropy', metrics=['accuracy'])\n",
    "model.fit(x_train[0:210], y_train1[0:210], epochs=10, batch_size=8)"
   ]
  },
  {
   "cell_type": "code",
   "execution_count": 80,
   "metadata": {},
   "outputs": [
    {
     "name": "stdout",
     "output_type": "stream",
     "text": [
      "[[0 0 0 0 0 0 0 0 0 0 0 0 0 0 0]\n",
      " [0 0 0 0 0 0 0 0 0 0 0 0 0 0 0]\n",
      " [0 0 0 0 0 0 0 0 0 0 0 0 0 0 0]\n",
      " [0 0 0 0 0 0 0 0 0 0 0 0 0 0 0]\n",
      " [0 0 0 0 0 0 0 0 0 0 0 0 0 0 0]\n",
      " [0 0 0 0 0 0 0 0 0 0 0 0 0 0 0]\n",
      " [0 0 0 0 0 0 0 0 0 0 0 0 0 0 0]\n",
      " [0 0 0 0 0 0 0 0 0 0 0 0 0 0 0]\n",
      " [0 0 0 0 0 0 0 0 0 0 0 0 0 0 0]\n",
      " [0 0 0 0 0 0 0 0 0 0 0 0 0 0 0]\n",
      " [0 0 0 0 0 0 0 0 0 0 0 0 0 0 0]\n",
      " [0 0 0 0 0 0 0 0 0 0 0 0 0 0 0]\n",
      " [0 0 0 0 0 0 0 0 0 0 0 0 0 0 0]\n",
      " [0 0 0 0 0 0 0 0 0 0 0 0 0 0 0]\n",
      " [0 0 0 0 0 0 0 0 0 0 0 0 0 0 0]\n",
      " [0 0 0 0 0 0 0 0 0 0 0 0 0 0 0]\n",
      " [0 0 0 0 0 0 0 0 0 0 0 0 0 0 0]\n",
      " [0 0 0 0 0 0 0 0 0 0 0 0 0 0 0]\n",
      " [0 0 0 0 0 0 0 0 0 0 0 0 0 0 0]\n",
      " [1 1 1 0 1 1 1 1 0 0 0 0 0 0 0]]\n",
      "[[  0   0   0   0   0   0   0   0   0   0   0   0   0   0   0]\n",
      " [  0   0   0   0   0   0   0   0   0   0   0   0   0   0   0]\n",
      " [  0   0   0   0   0   0   0   0   0   0   0   0   0   0   0]\n",
      " [  0   0   0   0   0   0   0   0   0   0   0   0   0   0   0]\n",
      " [  0   0   0   0   0   0   0   0   0   0   0   0   0   0   0]\n",
      " [  0   0   0   0   0   0   0   0   0   0   0   0   0   0   0]\n",
      " [  0   0   0   0   0   0   0   0   0   0   0   0   0   0   0]\n",
      " [  0   0   0   0   0   0   0   0   0   0   0   0   0   0   0]\n",
      " [  0   0   0   0   0   0   0   0   0   0   0   0   0   0   0]\n",
      " [  0   0   0   0   0   0   0   0   0   0   0   0   0   0   0]\n",
      " [  0   0   0   0   0   0   0   0   0   0   0   0   0   0   0]\n",
      " [255 255 255 255 255 255 255 255 255 255 255 255 255 255 255]\n",
      " [  0   0   0   0   0   0   0   0   0   0   0   0   0   0   0]\n",
      " [255 255 255 255 255 255 255 255 255 255 255 255 255 255 255]\n",
      " [  0   0   0   0   0   0   0   0   0   0   0   0   0   0   0]\n",
      " [  0   0   0   0   0   0   0   0   0   0   0   0   0   0   0]\n",
      " [  0   0   0   0   0 255 255 255 255 255   0   0   0   0   0]\n",
      " [  0   0 255 255 255   0   0   0   0   0 255 255 255   0   0]\n",
      " [255 255 255   0   0   0   0   0   0   0   0   0 255   0   0]\n",
      " [255   0   0   0   0   0   0   0   0   0   0   0 255 255   0]]\n",
      "<class 'numpy.ndarray'>\n"
     ]
    },
    {
     "data": {
      "image/png": "[encoded data removed]",
      "text/plain": [
       "<Figure size 432x288 with 2 Axes>"
      ]
     },
     "metadata": {},
     "output_type": "display_data"
    }
   ],
   "source": [
    "x = image.img_to_array(x_train[219])\n",
    "x = np.expand_dims(x, axis=0)\n",
    "mark_y=model.predict(x)\n",
    "# print(np.array(mark_y).reshape(35,35)[20:,:20])\n",
    "#print(y_train[0][20:,:20])\n",
    "A = np.array(mark_y)\n",
    "A[A > 0.5] = 1\n",
    "A[A <= 0.5] = 0\n",
    "print(A.astype(int).reshape(35,35)[0:20,20:])\n",
    "#print(np.array(mark_y)[0,600:1200])\n",
    "print(y_train[211].reshape(35,35)[0:20,20:])\n",
    "A = A.astype(int).reshape(35,35)*255\n",
    "print(type(A))\n",
    "# kernel = np.ones((5,5),np.uint8)\n",
    "# B = cv2.dilate(np.float32(A),kernel,iterations = 2)\n",
    "# C = cv2.erode(B,kernel,iterations = 2)\n",
    "plt.subplot(121),plt.imshow(A)\n",
    "plt.subplot(122),plt.imshow(x_train[219])\n",
    "# plt.subplot(143),plt.imshow(B)\n",
    "# plt.subplot(144),plt.imshow(C)\n",
    "plt.show()\n",
    "\n"
   ]
  },
  {
   "cell_type": "code",
   "execution_count": null,
   "metadata": {},
   "outputs": [],
   "source": [
    "cv2.imwrite('C:\\\\Users\\\\Marakhi\\\\Desktop\\\\Deep learning ajay bhammar\\\\Deep learning exercise\\\\segmentation\\\\peanut\\\\'+211+'\\\\erode.PNG', A) "
   ]
  }
 ],
 "metadata": {
  "kernelspec": {
   "display_name": "Python 3",
   "language": "python",
   "name": "python3"
  },
  "language_info": {
   "codemirror_mode": {
    "name": "ipython",
    "version": 3
   },
   "file_extension": ".py",
   "mimetype": "text/x-python",
   "name": "python",
   "nbconvert_exporter": "python",
   "pygments_lexer": "ipython3",
   "version": "3.6.5"
  }
 },
 "nbformat": 4,
 "nbformat_minor": 2
}
