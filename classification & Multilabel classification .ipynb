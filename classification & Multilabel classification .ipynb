{
 "cells": [
  {
   "cell_type": "code",
   "execution_count": 1,
   "metadata": {},
   "outputs": [
    {
     "name": "stderr",
     "output_type": "stream",
     "text": [
      "C:\\Users\\Marakhi\\Anaconda3\\lib\\site-packages\\h5py\\__init__.py:36: FutureWarning: Conversion of the second argument of issubdtype from `float` to `np.floating` is deprecated. In future, it will be treated as `np.float64 == np.dtype(float).type`.\n",
      "  from ._conv import register_converters as _register_converters\n"
     ]
    }
   ],
   "source": [
    "import math\n",
    "import numpy as np\n",
    "import h5py\n",
    "import matplotlib.pyplot as plt\n",
    "import tensorflow as tf\n",
    "from tensorflow.python.framework import ops\n",
    "#from tf_utils import load_dataset, random_mini_batches, convert_to_one_hot, predict\n",
    "\n",
    "%matplotlib inline\n",
    "np.random.seed(1)"
   ]
  },
  {
   "cell_type": "code",
   "execution_count": 94,
   "metadata": {},
   "outputs": [],
   "source": [
    "def load_dataset():\n",
    "    train_dataset = h5py.File('datasets/train_signs.h5', \"r\")\n",
    "    train_set_x_orig = np.array(train_dataset[\"train_set_x\"][:]) # your train set features\n",
    "    train_set_y_orig = np.array(train_dataset[\"train_set_y\"][:]) # your train set labels\n",
    "\n",
    "    test_dataset = h5py.File('datasets/test_signs.h5', \"r\")\n",
    "    test_set_x_orig = np.array(test_dataset[\"test_set_x\"][:]) # your test set features\n",
    "    test_set_y_orig = np.array(test_dataset[\"test_set_y\"][:]) # your test set labels\n",
    "\n",
    "    classes = np.array(test_dataset[\"list_classes\"][:]) # the list of classes\n",
    "    \n",
    "    train_set_y_orig = train_set_y_orig.reshape((1, train_set_y_orig.shape[0]))\n",
    "    test_set_y_orig = test_set_y_orig.reshape((1, test_set_y_orig.shape[0]))\n",
    "    \n",
    "    return train_set_x_orig, train_set_y_orig, test_set_x_orig, test_set_y_orig, classes\n",
    "\n",
    "\n",
    "def random_mini_batches(X, Y, mini_batch_size = 64, seed = 0):\n",
    "    \"\"\"\n",
    "    Creates a list of random minibatches from (X, Y)\n",
    "    \n",
    "    Arguments:\n",
    "    X -- input data, of shape (input size, number of examples) (m, Hi, Wi, Ci)\n",
    "    Y -- true \"label\" vector (containing 0 if cat, 1 if non-cat), of shape (1, number of examples) (m, n_y)\n",
    "    mini_batch_size - size of the mini-batches, integer\n",
    "    seed -- this is only for the purpose of grading, so that you're \"random minibatches are the same as ours.\n",
    "    \n",
    "    Returns:\n",
    "    mini_batches -- list of synchronous (mini_batch_X, mini_batch_Y)\n",
    "    \"\"\"\n",
    "    \n",
    "    m = X.shape[0]                  # number of training examples\n",
    "    mini_batches = []\n",
    "    np.random.seed(seed)\n",
    "    \n",
    "    # Step 1: Shuffle (X, Y)\n",
    "    permutation = list(np.random.permutation(m))\n",
    "    shuffled_X = X[permutation,:,:,:]\n",
    "    shuffled_Y = Y[permutation,:]\n",
    "\n",
    "    # Step 2: Partition (shuffled_X, shuffled_Y). Minus the end case.\n",
    "    num_complete_minibatches = math.floor(m/mini_batch_size) # number of mini batches of size mini_batch_size in your partitionning\n",
    "    for k in range(0, num_complete_minibatches):\n",
    "        mini_batch_X = shuffled_X[k * mini_batch_size : k * mini_batch_size + mini_batch_size,:,:,:]\n",
    "        mini_batch_Y = shuffled_Y[k * mini_batch_size : k * mini_batch_size + mini_batch_size,:]\n",
    "        mini_batch = (mini_batch_X, mini_batch_Y)\n",
    "        mini_batches.append(mini_batch)\n",
    "    \n",
    "    # Handling the end case (last mini-batch < mini_batch_size)\n",
    "    if m % mini_batch_size != 0:\n",
    "        mini_batch_X = shuffled_X[num_complete_minibatches * mini_batch_size : m,:,:,:]\n",
    "        mini_batch_Y = shuffled_Y[num_complete_minibatches * mini_batch_size : m,:]\n",
    "        mini_batch = (mini_batch_X, mini_batch_Y)\n",
    "        mini_batches.append(mini_batch)\n",
    "    \n",
    "    return mini_batches\n",
    "\n",
    "\n",
    "def convert_to_one_hot(Y, C):\n",
    "    Y = np.eye(C)[Y.reshape(-1)].T\n",
    "    return Y\n",
    "\n",
    "\n",
    "def forward_propagation_for_predict(X, parameters):\n",
    "    \"\"\"\n",
    "    Implements the forward propagation for the model: LINEAR -> RELU -> LINEAR -> RELU -> LINEAR -> SOFTMAX\n",
    "    \n",
    "    Arguments:\n",
    "    X -- input dataset placeholder, of shape (input size, number of examples)\n",
    "    parameters -- python dictionary containing your parameters \"W1\", \"b1\", \"W2\", \"b2\", \"W3\", \"b3\"\n",
    "                  the shapes are given in initialize_parameters\n",
    "    Returns:\n",
    "    Z3 -- the output of the last LINEAR unit\n",
    "    \"\"\"\n",
    "    \n",
    "    # Retrieve the parameters from the dictionary \"parameters\" \n",
    "    W1 = parameters['W1']\n",
    "    b1 = parameters['b1']\n",
    "    W2 = parameters['W2']\n",
    "    b2 = parameters['b2']\n",
    "    W3 = parameters['W3']\n",
    "    b3 = parameters['b3'] \n",
    "                                                           # Numpy Equivalents:\n",
    "    Z1 = tf.add(tf.matmul(W1, X), b1)                      # Z1 = np.dot(W1, X) + b1\n",
    "    A1 = tf.nn.relu(Z1)                                    # A1 = relu(Z1)\n",
    "    Z2 = tf.add(tf.matmul(W2, A1), b2)                     # Z2 = np.dot(W2, a1) + b2\n",
    "    A2 = tf.nn.relu(Z2)                                    # A2 = relu(Z2)\n",
    "    Z3 = tf.add(tf.matmul(W3, A2), b3)                     # Z3 = np.dot(W3,Z2) + b3\n",
    "    \n",
    "    return Z3\n",
    "\n",
    "def predict(X, parameters):\n",
    "    \n",
    "    W1 = tf.convert_to_tensor(parameters[\"W1\"])\n",
    "    b1 = tf.convert_to_tensor(parameters[\"b1\"])\n",
    "    W2 = tf.convert_to_tensor(parameters[\"W2\"])\n",
    "    b2 = tf.convert_to_tensor(parameters[\"b2\"])\n",
    "    W3 = tf.convert_to_tensor(parameters[\"W3\"])\n",
    "    b3 = tf.convert_to_tensor(parameters[\"b3\"])\n",
    "    \n",
    "    params = {\"W1\": W1,\n",
    "              \"b1\": b1,\n",
    "              \"W2\": W2,\n",
    "              \"b2\": b2,\n",
    "              \"W3\": W3,\n",
    "              \"b3\": b3}\n",
    "    \n",
    "    x = tf.placeholder(\"float\", [12288, 1])\n",
    "    \n",
    "    z3 = forward_propagation_for_predict(x, params)\n",
    "    p = tf.argmax(z3)\n",
    "    \n",
    "    sess = tf.Session()\n",
    "    prediction = sess.run(p, feed_dict = {x: X})\n",
    "        \n",
    "    return prediction\n",
    "\n",
    "#def predict(X, parameters):\n",
    "#    \n",
    "#    W1 = tf.convert_to_tensor(parameters[\"W1\"])\n",
    "#    b1 = tf.convert_to_tensor(parameters[\"b1\"])\n",
    "#    W2 = tf.convert_to_tensor(parameters[\"W2\"])\n",
    "#    b2 = tf.convert_to_tensor(parameters[\"b2\"])\n",
    "##    W3 = tf.convert_to_tensor(parameters[\"W3\"])\n",
    "##    b3 = tf.convert_to_tensor(parameters[\"b3\"])\n",
    "#    \n",
    "##    params = {\"W1\": W1,\n",
    "##              \"b1\": b1,\n",
    "##              \"W2\": W2,\n",
    "##              \"b2\": b2,\n",
    "##              \"W3\": W3,\n",
    "##              \"b3\": b3}\n",
    "#\n",
    "#    params = {\"W1\": W1,\n",
    "#              \"b1\": b1,\n",
    "#              \"W2\": W2,\n",
    "#              \"b2\": b2}    \n",
    "#    \n",
    "#    x = tf.placeholder(\"float\", [12288, 1])\n",
    "#    \n",
    "#    z3 = forward_propagation(x, params)\n",
    "#    p = tf.argmax(z3)\n",
    "#    \n",
    "#    with tf.Session() as sess:\n",
    "#        prediction = sess.run(p, feed_dict = {x: X})\n",
    "#        \n",
    "#    return prediction"
   ]
  },
  {
   "cell_type": "code",
   "execution_count": null,
   "metadata": {},
   "outputs": [],
   "source": [
    "a = tf.constant(6)\n",
    "b = tf.constant(2, tf.int32)\n",
    "\n",
    "sess = tf.Session()\n",
    "print(sess.run(a*b))"
   ]
  },
  {
   "cell_type": "code",
   "execution_count": 31,
   "metadata": {},
   "outputs": [
    {
     "name": "stdout",
     "output_type": "stream",
     "text": [
      "Tensor(\"Const_29:0\", shape=(), dtype=int32)\n"
     ]
    }
   ],
   "source": [
    "print(a)\n",
    "sess.close()"
   ]
  },
  {
   "cell_type": "code",
   "execution_count": 37,
   "metadata": {},
   "outputs": [
    {
     "name": "stdout",
     "output_type": "stream",
     "text": [
      "8.0\n"
     ]
    }
   ],
   "source": [
    "x=tf.placeholder(tf.float32)\n",
    "c = (x*2)\n",
    "sess = tf.Session()\n",
    "print(sess.run(c,feed_dict = {x: 4}))\n",
    "sess.close()"
   ]
  },
  {
   "cell_type": "code",
   "execution_count": 51,
   "metadata": {},
   "outputs": [
    {
     "name": "stdout",
     "output_type": "stream",
     "text": [
      "[[ 1.62434536]\n",
      " [-0.61175641]\n",
      " [-0.52817175]]\n",
      "[[-1.07296862  0.86540763 -2.3015387 ]\n",
      " [ 1.74481176 -0.7612069   0.3190391 ]\n",
      " [-0.24937038  1.46210794 -2.06014071]\n",
      " [-0.3224172  -0.38405435  1.13376944]]\n",
      "[[-1.09989127]\n",
      " [-0.17242821]\n",
      " [-0.87785842]\n",
      " [ 0.04221375]]\n",
      "[[-2.15657382]\n",
      " [ 2.95891446]\n",
      " [-1.08926781]\n",
      " [-0.84538042]]\n"
     ]
    }
   ],
   "source": [
    "np.random.seed(1)\n",
    "X = np.random.randn(3, 1)\n",
    "W = np.random.randn(4, 3)\n",
    "b = np.random.randn(4, 1)\n",
    "sess = tf.Session()\n",
    "print(sess.run(tf.convert_to_tensor(X)))\n",
    "print(sess.run(tf.convert_to_tensor(W)))\n",
    "print(sess.run(tf.convert_to_tensor(b)))\n",
    "print(sess.run(tf.matmul(W,X)+b))\n",
    "\n",
    "sess.close()"
   ]
  },
  {
   "cell_type": "code",
   "execution_count": 57,
   "metadata": {},
   "outputs": [
    {
     "name": "stdout",
     "output_type": "stream",
     "text": [
      "[[ 1.62434536]\n",
      " [-0.61175641]\n",
      " [-0.52817175]]\n",
      "[[-1.07296862  0.86540763 -2.3015387 ]\n",
      " [ 1.74481176 -0.7612069   0.3190391 ]\n",
      " [-0.24937038  1.46210794 -2.06014071]\n",
      " [-0.3224172  -0.38405435  1.13376944]]\n",
      "[[-1.09989127]\n",
      " [-0.17242821]\n",
      " [-0.87785842]\n",
      " [ 0.04221375]]\n",
      "[[-2.15657382]\n",
      " [ 2.95891446]\n",
      " [-1.08926781]\n",
      " [-0.84538042]]\n",
      "[[0.22156425]\n",
      " [0.97934476]\n",
      " [0.45282379]\n",
      " [0.5136515 ]]\n"
     ]
    }
   ],
   "source": [
    "np.random.seed(1)\n",
    "X = np.random.randn(3, 1)\n",
    "W = np.random.randn(4, 3)\n",
    "b = np.random.randn(4, 1)\n",
    "sess = tf.Session()\n",
    "print(sess.run(tf.convert_to_tensor(X)))\n",
    "print(sess.run(tf.convert_to_tensor(W)))\n",
    "print(sess.run(tf.convert_to_tensor(b)))\n",
    "print(sess.run(tf.matmul(W,X)+b))\n",
    "print(sess.run(tf.sigmoid((tf.matmul(W,X)+b)+0.9)))\n",
    "sess.close()"
   ]
  },
  {
   "cell_type": "code",
   "execution_count": 84,
   "metadata": {},
   "outputs": [
    {
     "name": "stdout",
     "output_type": "stream",
     "text": [
      "0.31326172\n"
     ]
    }
   ],
   "source": [
    "sess = tf.Session()\n",
    "print(sess.run(tf.nn.sigmoid_cross_entropy_with_logits(logits=1.0, labels=1.0)))\n",
    "sess.close()"
   ]
  },
  {
   "cell_type": "code",
   "execution_count": 28,
   "metadata": {},
   "outputs": [
    {
     "name": "stdout",
     "output_type": "stream",
     "text": [
      "[[0. 0. 0. 0. 0. 0. 0. 0.]\n",
      " [0. 0. 0. 0. 0. 0. 0. 0.]\n",
      " [0. 0. 0. 0. 0. 0. 0. 0.]\n",
      " [0. 0. 0. 0. 0. 0. 0. 0.]\n",
      " [0. 0. 0. 0. 0. 0. 0. 0.]]\n",
      "[[0. 1. 0. 0. 0. 0. 0. 0.]\n",
      " [1. 0. 0. 0. 0. 0. 0. 1.]\n",
      " [0. 0. 0. 0. 1. 0. 1. 0.]\n",
      " [0. 0. 1. 0. 0. 0. 0. 0.]\n",
      " [0. 0. 0. 1. 0. 1. 0. 0.]]\n"
     ]
    }
   ],
   "source": [
    "a = np.array([1, 0, 3, 4, 2, 4, 2, 1])\n",
    "b = np.zeros((5,8))\n",
    "print(b)\n",
    "b[a,np.arange(8)] = 1\n",
    "print(b)"
   ]
  },
  {
   "cell_type": "code",
   "execution_count": 26,
   "metadata": {},
   "outputs": [
    {
     "data": {
      "text/plain": [
       "array([[0., 1., 0., 0., 0.],\n",
       "       [1., 0., 0., 1., 0.],\n",
       "       [0., 0., 0., 0., 1.],\n",
       "       [0., 0., 1., 0., 0.]])"
      ]
     },
     "execution_count": 26,
     "metadata": {},
     "output_type": "execute_result"
    }
   ],
   "source": [
    "a = np.array([1, 0, 3, 1, 2])\n",
    "b = np.zeros((4, 5))\n",
    "b[a, np.arange(5)] = 1\n",
    "b"
   ]
  },
  {
   "cell_type": "code",
   "execution_count": 31,
   "metadata": {},
   "outputs": [
    {
     "data": {
      "text/plain": [
       "array([0, 1, 2, 3, 4, 5, 6, 7])"
      ]
     },
     "execution_count": 31,
     "metadata": {},
     "output_type": "execute_result"
    }
   ],
   "source": [
    "np.arange(8)"
   ]
  },
  {
   "cell_type": "code",
   "execution_count": 2,
   "metadata": {},
   "outputs": [
    {
     "data": {
      "text/plain": [
       "'C:\\\\Users\\\\Marakhi\\\\Desktop\\\\Deep learning ajay bhammar\\\\Deep learning exercise'"
      ]
     },
     "execution_count": 2,
     "metadata": {},
     "output_type": "execute_result"
    }
   ],
   "source": [
    "import cv2\n",
    "import matplotlib.pyplot as plt\n",
    "import os\n",
    "from PIL import Image\n",
    "import glob\n",
    "os.getcwd()"
   ]
  },
  {
   "cell_type": "code",
   "execution_count": 6,
   "metadata": {},
   "outputs": [],
   "source": [
    "img = cv2.imread('C:\\\\Users\\\\Marakhi\\\\Desktop\\\\Deep learning ajay bhammar\\\\Deep learning exercise\\\\Data\\\\image5.JPG')\n",
    "cv2.imshow('img',img)\n",
    "cv2.waitKey(0)\n",
    "cv2.destroyAllWindows()\n",
    "A = 1193\n",
    "for i in range(0,2113,350):\n",
    "    for j in range(0,2961,350):\n",
    "        if i >= 1751 or j >= 2451:\n",
    "            break        \n",
    "        crop_img = img[j:j+350, i:i+350]\n",
    "        resize_img = cv2.resize(crop_img, (35,35), interpolation = cv2.INTER_AREA)\n",
    "        file_name = 'C:\\\\Users\\\\Marakhi\\\\Desktop\\\\Deep learning ajay bhammar\\\\Deep learning exercise\\\\Data\\\\'+str(A)+'.jpg'\n",
    "        cv2.imwrite(file_name, resize_img)\n",
    "        A = A+1\n",
    "        \n"
   ]
  },
  {
   "cell_type": "code",
   "execution_count": 3,
   "metadata": {},
   "outputs": [],
   "source": []
  },
  {
   "cell_type": "code",
   "execution_count": 21,
   "metadata": {},
   "outputs": [
    {
     "name": "stdout",
     "output_type": "stream",
     "text": [
      "[[[141 194 227]\n",
      "  [140 192 228]\n",
      "  [144 196 233]\n",
      "  ...\n",
      "  [178 221 254]\n",
      "  [178 221 254]\n",
      "  [177 220 253]]\n",
      "\n",
      " [[106 165 197]\n",
      "  [109 167 202]\n",
      "  [117 175 210]\n",
      "  ...\n",
      "  [ 91 151 181]\n",
      "  [ 91 151 181]\n",
      "  [ 91 151 181]]\n",
      "\n",
      " [[105 173 202]\n",
      "  [103 170 201]\n",
      "  [111 178 211]\n",
      "  ...\n",
      "  [ 94 168 196]\n",
      "  [ 94 168 196]\n",
      "  [ 94 168 196]]\n",
      "\n",
      " ...\n",
      "\n",
      " [[119 187 216]\n",
      "  [108 176 205]\n",
      "  [119 187 216]\n",
      "  ...\n",
      "  [103 178 204]\n",
      "  [103 178 204]\n",
      "  [103 178 204]]\n",
      "\n",
      " [[124 192 221]\n",
      "  [111 179 208]\n",
      "  [118 186 215]\n",
      "  ...\n",
      "  [103 178 204]\n",
      "  [103 178 204]\n",
      "  [104 179 205]]\n",
      "\n",
      " [[117 185 214]\n",
      "  [106 174 203]\n",
      "  [116 184 213]\n",
      "  ...\n",
      "  [102 177 203]\n",
      "  [103 178 204]\n",
      "  [103 178 204]]]\n"
     ]
    }
   ],
   "source": [
    "i = 0\n",
    "for filename in glob.glob('C:\\\\Users\\\\Marakhi\\\\Desktop\\\\Deep learning ajay bhammar\\\\Deep learning exercise\\\\Data\\\\train\\\\p\\\\*.JPG'): \n",
    "    im=cv2.imread(filename)\n",
    "    if i == 0:\n",
    "        x_train=np.expand_dims(im, axis=0)\n",
    "        #plt.imshow(im)\n",
    "        im = np.fliplr(im)\n",
    "        x_train = np.concatenate((x_train, np.expand_dims(im, axis=0)), axis=0)\n",
    "        i=i+1\n",
    "    else:\n",
    "        x_train = np.concatenate((x_train, np.expand_dims(im, axis=0)), axis=0)\n",
    "        im = np.fliplr(im)\n",
    "        x_train = np.concatenate((x_train, np.expand_dims(im, axis=0)), axis=0)\n",
    "        \n",
    "for filename in glob.glob('C:\\\\Users\\\\Marakhi\\\\Desktop\\\\Deep learning ajay bhammar\\\\Deep learning exercise\\\\Data\\\\train\\\\b\\\\*.JPG'): \n",
    "    im=cv2.imread(filename)\n",
    "    x_train = np.concatenate((x_train, np.expand_dims(im, axis=0)), axis=0)\n",
    "    im = np.fliplr(im)\n",
    "    x_train = np.concatenate((x_train, np.expand_dims(im, axis=0)), axis=0)\n",
    "\n",
    "i = 0\n",
    "for filename in glob.glob('C:\\\\Users\\\\Marakhi\\\\Desktop\\\\Deep learning ajay bhammar\\\\Deep learning exercise\\\\Data\\\\test\\\\p\\\\*.JPG'): \n",
    "    im=cv2.imread(filename)\n",
    "    if i == 0:\n",
    "        x_test=np.expand_dims(im, axis=0)\n",
    "        i=i+1\n",
    "    else:\n",
    "        x_test = np.concatenate((x_test, np.expand_dims(im, axis=0)), axis=0)\n",
    "        \n",
    "for filename in glob.glob('C:\\\\Users\\\\Marakhi\\\\Desktop\\\\Deep learning ajay bhammar\\\\Deep learning exercise\\\\Data\\\\test\\\\b\\\\*.JPG'): \n",
    "    im=cv2.imread(filename)\n",
    "    x_test = np.concatenate((x_test, np.expand_dims(im, axis=0)), axis=0)\n",
    "        \n",
    "print(x_test[0,:,:,:])\n",
    "x_train = x_train/255\n",
    "x_test = x_test/255\n",
    "#plt.imshow(x_test[0])\n",
    "# cv2.imshow('img',x_test[47]/255)\n",
    "# cv2.waitKey(0)\n",
    "# cv2.destroyAllWindows()\n"
   ]
  },
  {
   "cell_type": "code",
   "execution_count": 7,
   "metadata": {},
   "outputs": [
    {
     "name": "stdout",
     "output_type": "stream",
     "text": [
      "<PIL.JpegImagePlugin.JpegImageFile image mode=RGB size=35x35 at 0x16C5CBE4550>\n"
     ]
    }
   ],
   "source": [
    "print(image_list[0])\n",
    "#print (\"X_train shape: \" + str(image_list.shape))"
   ]
  },
  {
   "cell_type": "code",
   "execution_count": 10,
   "metadata": {},
   "outputs": [],
   "source": [
    "image_list[200].show()"
   ]
  },
  {
   "cell_type": "code",
   "execution_count": 5,
   "metadata": {},
   "outputs": [
    {
     "name": "stdout",
     "output_type": "stream",
     "text": [
      "(756, 35, 35, 3)\n",
      "(96, 35, 35, 3)\n"
     ]
    }
   ],
   "source": [
    "print(x_train.shape)\n",
    "print(x_test.shape)"
   ]
  },
  {
   "cell_type": "code",
   "execution_count": 6,
   "metadata": {},
   "outputs": [
    {
     "name": "stdout",
     "output_type": "stream",
     "text": [
      "(756, 1)\n",
      "(96, 1)\n"
     ]
    }
   ],
   "source": [
    "# y_train1 = np.zeros(186*2, dtype=int)\n",
    "# y_train1 = np.concatenate((y_train1, np.ones(192*2, dtype=int)), axis=None)\n",
    "# print(y_train1.shape)\n",
    "\n",
    "# y_train = np.zeros((378*2, 2))\n",
    "# y_train[np.arange(378*2), y_train1] = 1\n",
    "# print(y_train.shape)\n",
    "\n",
    "# y_test1 = np.ones(48, dtype=int)\n",
    "# y_test1 = np.concatenate((y_test1, np.zeros(48, dtype=int)), axis=None)\n",
    "# print(y_test1.shape)\n",
    "\n",
    "# y_test = np.zeros((96,2))\n",
    "# y_test[np.arange(96),y_test1] = 1\n",
    "# print(y_test.shape)\n",
    "\n",
    "y_train = np.zeros(186*2, dtype=int)\n",
    "y_train = np.concatenate((y_train, np.ones(192*2, dtype=int)), axis=None)\n",
    "y_train = y_train.reshape((756, 1))\n",
    "print(y_train.shape)\n",
    "\n",
    "y_test = np.zeros(48, dtype=int)\n",
    "y_test = np.concatenate((y_test, np.ones(48, dtype=int)), axis=None)\n",
    "y_test = y_test.reshape((96, 1))\n",
    "print(y_test.shape)\n",
    "\n"
   ]
  },
  {
   "cell_type": "code",
   "execution_count": 71,
   "metadata": {},
   "outputs": [
    {
     "name": "stdout",
     "output_type": "stream",
     "text": [
      "[1]\n"
     ]
    },
    {
     "data": {
      "image/png": "[encoded data removed]",
      "text/plain": [
       "<Figure size 432x288 with 1 Axes>"
      ]
     },
     "metadata": {},
     "output_type": "display_data"
    }
   ],
   "source": [
    "plt.imshow(x_train[500])\n",
    "print(y_train[500])"
   ]
  },
  {
   "cell_type": "code",
   "execution_count": 96,
   "metadata": {},
   "outputs": [
    {
     "name": "stdout",
     "output_type": "stream",
     "text": [
      "Cost after epoch 0: 0.876058\n",
      "Cost after epoch 5: 0.846745\n",
      "Cost after epoch 10: 0.965677\n",
      "Cost after epoch 15: 1.019833\n",
      "Cost after epoch 20: 1.150319\n"
     ]
    },
    {
     "data": {
      "image/png": "[encoded data removed]",
      "text/plain": [
       "<Figure size 432x288 with 1 Axes>"
      ]
     },
     "metadata": {},
     "output_type": "display_data"
    },
    {
     "name": "stdout",
     "output_type": "stream",
     "text": [
      "Tensor(\"Mean_1:0\", shape=(), dtype=float32)\n",
      "Train Accuracy: 0.9973545\n",
      "Test Accuracy: 1.0\n"
     ]
    }
   ],
   "source": [
    "def create_placeholders(n_H0, n_W0, n_C0, n_y):\n",
    "    X = tf.placeholder(tf.float32, [None, n_H0, n_W0, n_C0])\n",
    "    Y = tf.placeholder(tf.float32, [None, n_y])    \n",
    "    return X, Y\n",
    "\n",
    "def initialize_parameters():\n",
    "    tf.set_random_seed(1)                               \n",
    "    W1 = tf.get_variable(\"W1\", [5, 5, 3, 30], initializer=tf.contrib.layers.xavier_initializer(seed=0))\n",
    "    W2 = tf.get_variable(\"W2\", [5, 5, 30, 60], initializer=tf.contrib.layers.xavier_initializer(seed=0))\n",
    "    parameters = {\"W1\": W1,\n",
    "                  \"W2\": W2}    \n",
    "    return parameters\n",
    "\n",
    "\n",
    "def forward_propagation(X, parameters):\n",
    "    W1 = parameters['W1']\n",
    "    W2 = parameters['W2']\n",
    "    Z1 = tf.nn.conv2d(X, W1, strides=[1, 1, 1, 1], padding='SAME')\n",
    "    A1 = tf.nn.relu(Z1)\n",
    "    P1 = tf.nn.max_pool(A1, ksize = [1, 2, 2, 1], strides = [1, 2, 2, 1], padding='SAME')\n",
    "    Z2 = tf.nn.conv2d(P1, W2, strides=[1, 1, 1, 1], padding='SAME')\n",
    "    A2 = tf.nn.relu(Z2)\n",
    "    P2 = tf.nn.max_pool(A2, ksize = [1, 2, 2, 1], strides = [1, 2, 2, 1], padding='SAME')\n",
    "    P = tf.contrib.layers.flatten(P1)\n",
    "    Z3 = tf.contrib.layers.fully_connected(P, 2, activation_fn=None)\n",
    "    return Z3\n",
    "\n",
    "def compute_cost(Z3, Y):\n",
    "    cost = tf.reduce_mean(tf.nn.softmax_cross_entropy_with_logits(logits=Z3, labels=Y)) \n",
    "    return cost\n",
    "\n",
    "def model(X_train, Y_train, X_test, Y_test, learning_rate=0.001,\n",
    "          num_epochs=25, minibatch_size=128, print_cost=True):\n",
    "    \n",
    "    ops.reset_default_graph()                          \n",
    "    tf.set_random_seed(1)                              \n",
    "    seed = 3                                           \n",
    "    (m, n_H0, n_W0, n_C0) = X_train.shape             \n",
    "    n_y = Y_train.shape[1]                            \n",
    "    costs = []                                        \n",
    "    \n",
    "    X, Y = create_placeholders(n_H0, n_W0, n_C0, n_y)\n",
    "\n",
    "    parameters = initialize_parameters()\n",
    "    \n",
    "    Z3 = forward_propagation(X, parameters)\n",
    "\n",
    "    cost = compute_cost(Z3, Y)\n",
    "\n",
    "    optimizer = tf.train.AdamOptimizer(learning_rate=learning_rate).minimize(cost)\n",
    "\n",
    "    init = tf.global_variables_initializer()\n",
    "\n",
    "    with tf.Session() as sess:\n",
    "        sess.run(init)\n",
    "        for epoch in range(num_epochs):\n",
    "\n",
    "            minibatch_cost = 0.\n",
    "            num_minibatches = int(m / minibatch_size)  \n",
    "            seed = seed + 1\n",
    "            minibatches = random_mini_batches(X_train, Y_train, minibatch_size, seed)\n",
    "\n",
    "            for minibatch in minibatches:\n",
    "                (minibatch_X, minibatch_Y) = minibatch\n",
    "                _ , temp_cost = sess.run([optimizer, cost], feed_dict={X:minibatch_X, Y:minibatch_Y})\n",
    "                minibatch_cost += temp_cost / num_minibatches\n",
    "\n",
    "            if print_cost == True and epoch % 5 == 0:\n",
    "                print (\"Cost after epoch %i: %f\" % (epoch, minibatch_cost))\n",
    "            if print_cost == True and epoch % 1 == 0:\n",
    "                costs.append(minibatch_cost)\n",
    "                \n",
    "        plt.plot(np.squeeze(costs))\n",
    "        plt.ylabel('cost')\n",
    "        plt.xlabel('iterations (per tens)')\n",
    "        plt.title(\"Learning rate =\" + str(learning_rate))\n",
    "        plt.show()\n",
    "\n",
    "        predict_op = tf.argmax(Z3, 1)\n",
    "        correct_prediction = tf.equal(predict_op, tf.argmax(Y, 1))\n",
    "\n",
    "        accuracy = tf.reduce_mean(tf.cast(correct_prediction, \"float\"))\n",
    "        print(accuracy)\n",
    "        train_accuracy = accuracy.eval({X: X_train, Y: Y_train})\n",
    "        test_accuracy = accuracy.eval({X: X_test, Y: Y_test})\n",
    "        print(\"Train Accuracy:\", train_accuracy)\n",
    "        print(\"Test Accuracy:\", test_accuracy)\n",
    "                \n",
    "        return train_accuracy, test_accuracy, parameters\n",
    "    \n",
    "_, _, parameters = model(x_train, y_train, x_test, y_test)"
   ]
  },
  {
   "cell_type": "code",
   "execution_count": null,
   "metadata": {},
   "outputs": [],
   "source": []
  },
  {
   "cell_type": "code",
   "execution_count": 2,
   "metadata": {},
   "outputs": [
    {
     "name": "stderr",
     "output_type": "stream",
     "text": [
      "Using TensorFlow backend.\n"
     ]
    }
   ],
   "source": [
    "import numpy as np\n",
    "import keras \n",
    "from keras import layers\n",
    "from keras.layers import Input, Dense, Activation, ZeroPadding2D, BatchNormalization, Flatten, Conv2D\n",
    "from keras.layers import AveragePooling2D, MaxPooling2D, Dropout, GlobalMaxPooling2D, GlobalAveragePooling2D\n",
    "from keras.models import Model\n",
    "from keras.preprocessing import image\n",
    "from keras.utils import layer_utils\n",
    "from keras.utils.data_utils import get_file\n",
    "from keras.applications.imagenet_utils import preprocess_input\n",
    "from keras.utils import to_categorical\n",
    "#import pydot\n",
    "from IPython.display import SVG\n",
    "from keras.utils.vis_utils import model_to_dot\n",
    "from keras.utils import plot_model\n",
    "#from kt_utils import *\n",
    "\n",
    "import keras.backend as K\n",
    "K.set_image_data_format('channels_last')\n",
    "import matplotlib.pyplot as plt\n",
    "from matplotlib.pyplot import imshow\n",
    "\n",
    "%matplotlib inline"
   ]
  },
  {
   "cell_type": "code",
   "execution_count": 46,
   "metadata": {},
   "outputs": [],
   "source": [
    "def HappyModel(input_shape):\n",
    "    X_input = Input(input_shape)\n",
    "\n",
    "    X = ZeroPadding2D((3, 3))(X_input)\n",
    "\n",
    "    X = Conv2D(32, (3, 3), strides = (1, 1), name = 'conv0')(X)\n",
    "    X = BatchNormalization(axis = 3, name = 'bn0')(X)\n",
    "    X = Activation('relu')(X)\n",
    "    X = Conv2D(64, (3, 3), strides = (1, 1), name = 'conv1')(X)\n",
    "    X = BatchNormalization(axis = 3, name = 'bn1')(X)\n",
    "    X = Activation('relu')(X)\n",
    "    X = MaxPooling2D((2, 2), name='max_pool')(X)\n",
    "    X = Dropout(0.25)(X)\n",
    "    X = Flatten()(X)\n",
    "    X = Dense(5, activation='sigmoid', name='fc')(X)\n",
    "\n",
    "    model = Model(inputs = X_input, outputs = X, name='HappyModel')\n",
    "\n",
    "    return model"
   ]
  },
  {
   "cell_type": "code",
   "execution_count": 50,
   "metadata": {},
   "outputs": [
    {
     "name": "stdout",
     "output_type": "stream",
     "text": [
      "Epoch 1/10\n",
      "756/756 [==============================] - 29s 38ms/step - loss: 1.0134 - acc: 0.7085\n",
      "Epoch 2/10\n",
      "756/756 [==============================] - 27s 36ms/step - loss: 0.2988 - acc: 0.8606\n",
      "Epoch 3/10\n",
      "756/756 [==============================] - 27s 36ms/step - loss: 0.1595 - acc: 0.9262\n",
      "Epoch 4/10\n",
      "756/756 [==============================] - 27s 35ms/step - loss: 0.0984 - acc: 0.9601\n",
      "Epoch 5/10\n",
      "756/756 [==============================] - 27s 35ms/step - loss: 0.0646 - acc: 0.9799\n",
      "Epoch 6/10\n",
      "756/756 [==============================] - 27s 36ms/step - loss: 0.0532 - acc: 0.9823\n",
      "Epoch 7/10\n",
      "756/756 [==============================] - 28s 37ms/step - loss: 0.0330 - acc: 0.9862\n",
      "Epoch 8/10\n",
      "756/756 [==============================] - 27s 35ms/step - loss: 0.0434 - acc: 0.9881\n",
      "Epoch 9/10\n",
      "756/756 [==============================] - 27s 36ms/step - loss: 0.0409 - acc: 0.9865\n",
      "Epoch 10/10\n",
      "756/756 [==============================] - 27s 36ms/step - loss: 0.0291 - acc: 0.9921\n",
      "Test loss: 0.09641429626693328\n",
      "Test accuracy: 0.9604166547457377\n"
     ]
    }
   ],
   "source": [
    "happyModel = HappyModel(x_train.shape[1:])\n",
    "happyModel.compile('adam', 'binary_crossentropy', metrics=['accuracy'])\n",
    "happyModel.fit(x_train, y_train, epochs=10, batch_size=150)\n",
    "score = happyModel.evaluate(x_test, y_test, verbose=0)\n",
    "print('Test loss:', score[0])\n",
    "print('Test accuracy:', score[1])"
   ]
  },
  {
   "cell_type": "code",
   "execution_count": 57,
   "metadata": {},
   "outputs": [
    {
     "name": "stdout",
     "output_type": "stream",
     "text": [
      "[[0. 1. 0. 0. 1.]]\n"
     ]
    },
    {
     "data": {
      "image/png": "[encoded data removed]",
      "text/plain": [
       "<Figure size 432x288 with 1 Axes>"
      ]
     },
     "metadata": {},
     "output_type": "display_data"
    }
   ],
   "source": [
    "### START CODE HERE ###\n",
    "img_path = 'C:\\\\Users\\\\Marakhi\\\\Desktop\\\\Deep learning ajay bhammar\\\\Deep learning exercise\\\\Data\\\\test\\\\pr\\\\217.JPG'\n",
    "### END CODE HERE ###\n",
    "img = image.load_img(img_path, target_size=(35, 35))\n",
    "imshow(img)\n",
    "\n",
    "x = image.img_to_array(img)\n",
    "x = np.expand_dims(x, axis=0)\n",
    "x = preprocess_input(x)\n",
    "\n",
    "print(happyModel.predict(x))"
   ]
  },
  {
   "cell_type": "code",
   "execution_count": 23,
   "metadata": {},
   "outputs": [
    {
     "name": "stdout",
     "output_type": "stream",
     "text": [
      "[[[0.50588235 0.61960784 0.84313725]\n",
      "  [0.50980392 0.64705882 0.86666667]\n",
      "  [0.50980392 0.65882353 0.88627451]\n",
      "  ...\n",
      "  [0.3372549  0.36078431 0.38823529]\n",
      "  [0.34117647 0.36078431 0.39607843]\n",
      "  [0.31372549 0.3372549  0.38039216]]\n",
      "\n",
      " [[0.26666667 0.32156863 0.41176471]\n",
      "  [0.28235294 0.3372549  0.42352941]\n",
      "  [0.2745098  0.33333333 0.40784314]\n",
      "  ...\n",
      "  [0.29411765 0.27843137 0.25882353]\n",
      "  [0.29803922 0.27843137 0.26666667]\n",
      "  [0.2745098  0.25882353 0.25490196]]\n",
      "\n",
      " [[0.21176471 0.2        0.16862745]\n",
      "  [0.25098039 0.22745098 0.17647059]\n",
      "  [0.26666667 0.23921569 0.16470588]\n",
      "  ...\n",
      "  [0.35294118 0.29803922 0.22745098]\n",
      "  [0.35686275 0.29803922 0.23529412]\n",
      "  [0.32941176 0.27843137 0.22352941]]\n",
      "\n",
      " ...\n",
      "\n",
      " [[0.27058824 0.23137255 0.20392157]\n",
      "  [0.29019608 0.25882353 0.20784314]\n",
      "  [0.30980392 0.28235294 0.20392157]\n",
      "  ...\n",
      "  [0.35294118 0.32156863 0.23137255]\n",
      "  [0.35686275 0.31764706 0.25098039]\n",
      "  [0.33333333 0.29019608 0.25882353]]\n",
      "\n",
      " [[0.25490196 0.21568627 0.18823529]\n",
      "  [0.2745098  0.24313725 0.19215686]\n",
      "  [0.29019608 0.2627451  0.18431373]\n",
      "  ...\n",
      "  [0.32941176 0.29803922 0.20784314]\n",
      "  [0.32941176 0.29019608 0.22352941]\n",
      "  [0.30196078 0.25882353 0.22745098]]\n",
      "\n",
      " [[0.23137255 0.19215686 0.16470588]\n",
      "  [0.25490196 0.22352941 0.17254902]\n",
      "  [0.27843137 0.25098039 0.17254902]\n",
      "  ...\n",
      "  [0.37254902 0.34117647 0.25098039]\n",
      "  [0.36862745 0.32941176 0.2627451 ]\n",
      "  [0.34117647 0.29803922 0.26666667]]]\n"
     ]
    }
   ],
   "source": [
    "print(x_train[0,:,:,:])"
   ]
  },
  {
   "cell_type": "code",
   "execution_count": 119,
   "metadata": {},
   "outputs": [],
   "source": [
    "from keras.datasets import mnist\n",
    "(x_train, y_train), (x_test, y_test) = mnist.load_data()"
   ]
  },
  {
   "cell_type": "code",
   "execution_count": 120,
   "metadata": {},
   "outputs": [
    {
     "name": "stdout",
     "output_type": "stream",
     "text": [
      "(3000, 28, 28, 1)\n",
      "(1000, 28, 28, 1)\n"
     ]
    }
   ],
   "source": [
    "x_train = x_train[0:3000,:,:]\n",
    "y_train = y_train[0:3000]\n",
    "x_test = x_test[0:1000,:,:]\n",
    "y_test = y_test[0:1000]\n",
    "\n",
    "x_train = x_train.reshape(x_train.shape[0], x_train.shape[1], x_train.shape[2], 1)\n",
    "x_test = x_test.reshape(x_test.shape[0], x_test.shape[1], x_test.shape[2], 1)\n",
    "\n",
    "print(x_train.shape)\n",
    "print(x_test.shape)"
   ]
  },
  {
   "cell_type": "code",
   "execution_count": 42,
   "metadata": {},
   "outputs": [],
   "source": [
    "def HappyModel1(input_shape):\n",
    "    X_input = Input(input_shape)\n",
    "\n",
    "    X = ZeroPadding2D((3, 3),input_shape=(28,28))(X_input)\n",
    "\n",
    "    X = Conv2D(32, (3, 3), strides = (1, 1), name = 'conv0')(X)\n",
    "    X = BatchNormalization(axis = 3, name = 'bn0')(X)\n",
    "    X = Activation('relu')(X)\n",
    "\n",
    "    X = MaxPooling2D((2, 2), name='max_pool')(X)\n",
    "\n",
    "    X = Flatten()(X)\n",
    "    X = Dense(10, activation='softmax', name='fc')(X)\n",
    "\n",
    "    model = Model(inputs = X_input, outputs = X, name='HappyModel1')\n",
    "\n",
    "    return model"
   ]
  },
  {
   "cell_type": "code",
   "execution_count": 43,
   "metadata": {},
   "outputs": [
    {
     "ename": "ValueError",
     "evalue": "Error when checking target: expected fc to have shape (10,) but got array with shape (5,)",
     "output_type": "error",
     "traceback": [
      "\u001b[1;31m---------------------------------------------------------------------------\u001b[0m",
      "\u001b[1;31mValueError\u001b[0m                                Traceback (most recent call last)",
      "\u001b[1;32m<ipython-input-43-9dcebf5952c6>\u001b[0m in \u001b[0;36m<module>\u001b[1;34m()\u001b[0m\n\u001b[0;32m      1\u001b[0m \u001b[0mhappyModel\u001b[0m \u001b[1;33m=\u001b[0m \u001b[0mHappyModel1\u001b[0m\u001b[1;33m(\u001b[0m\u001b[0mx_train\u001b[0m\u001b[1;33m.\u001b[0m\u001b[0mshape\u001b[0m\u001b[1;33m[\u001b[0m\u001b[1;36m1\u001b[0m\u001b[1;33m:\u001b[0m\u001b[1;33m]\u001b[0m\u001b[1;33m)\u001b[0m\u001b[1;33m\u001b[0m\u001b[0m\n\u001b[0;32m      2\u001b[0m \u001b[0mhappyModel\u001b[0m\u001b[1;33m.\u001b[0m\u001b[0mcompile\u001b[0m\u001b[1;33m(\u001b[0m\u001b[1;34m'adam'\u001b[0m\u001b[1;33m,\u001b[0m \u001b[1;34m'binary_crossentropy'\u001b[0m\u001b[1;33m,\u001b[0m \u001b[0mmetrics\u001b[0m\u001b[1;33m=\u001b[0m\u001b[1;33m[\u001b[0m\u001b[1;34m'accuracy'\u001b[0m\u001b[1;33m]\u001b[0m\u001b[1;33m)\u001b[0m\u001b[1;33m\u001b[0m\u001b[0m\n\u001b[1;32m----> 3\u001b[1;33m \u001b[0mhappyModel\u001b[0m\u001b[1;33m.\u001b[0m\u001b[0mfit\u001b[0m\u001b[1;33m(\u001b[0m\u001b[0mx_train\u001b[0m\u001b[1;33m,\u001b[0m \u001b[0my_train\u001b[0m\u001b[1;33m,\u001b[0m \u001b[0mepochs\u001b[0m\u001b[1;33m=\u001b[0m\u001b[1;36m1\u001b[0m\u001b[1;33m,\u001b[0m \u001b[0mbatch_size\u001b[0m\u001b[1;33m=\u001b[0m\u001b[1;36m50\u001b[0m\u001b[1;33m)\u001b[0m\u001b[1;33m\u001b[0m\u001b[0m\n\u001b[0m",
      "\u001b[1;32m~\\Anaconda3\\lib\\site-packages\\keras\\engine\\training.py\u001b[0m in \u001b[0;36mfit\u001b[1;34m(self, x, y, batch_size, epochs, verbose, callbacks, validation_split, validation_data, shuffle, class_weight, sample_weight, initial_epoch, steps_per_epoch, validation_steps, **kwargs)\u001b[0m\n\u001b[0;32m    953\u001b[0m             \u001b[0msample_weight\u001b[0m\u001b[1;33m=\u001b[0m\u001b[0msample_weight\u001b[0m\u001b[1;33m,\u001b[0m\u001b[1;33m\u001b[0m\u001b[0m\n\u001b[0;32m    954\u001b[0m             \u001b[0mclass_weight\u001b[0m\u001b[1;33m=\u001b[0m\u001b[0mclass_weight\u001b[0m\u001b[1;33m,\u001b[0m\u001b[1;33m\u001b[0m\u001b[0m\n\u001b[1;32m--> 955\u001b[1;33m             batch_size=batch_size)\n\u001b[0m\u001b[0;32m    956\u001b[0m         \u001b[1;31m# Prepare validation data.\u001b[0m\u001b[1;33m\u001b[0m\u001b[1;33m\u001b[0m\u001b[0m\n\u001b[0;32m    957\u001b[0m         \u001b[0mdo_validation\u001b[0m \u001b[1;33m=\u001b[0m \u001b[1;32mFalse\u001b[0m\u001b[1;33m\u001b[0m\u001b[0m\n",
      "\u001b[1;32m~\\Anaconda3\\lib\\site-packages\\keras\\engine\\training.py\u001b[0m in \u001b[0;36m_standardize_user_data\u001b[1;34m(self, x, y, sample_weight, class_weight, check_array_lengths, batch_size)\u001b[0m\n\u001b[0;32m    790\u001b[0m                 \u001b[0mfeed_output_shapes\u001b[0m\u001b[1;33m,\u001b[0m\u001b[1;33m\u001b[0m\u001b[0m\n\u001b[0;32m    791\u001b[0m                 \u001b[0mcheck_batch_axis\u001b[0m\u001b[1;33m=\u001b[0m\u001b[1;32mFalse\u001b[0m\u001b[1;33m,\u001b[0m  \u001b[1;31m# Don't enforce the batch size.\u001b[0m\u001b[1;33m\u001b[0m\u001b[0m\n\u001b[1;32m--> 792\u001b[1;33m                 exception_prefix='target')\n\u001b[0m\u001b[0;32m    793\u001b[0m \u001b[1;33m\u001b[0m\u001b[0m\n\u001b[0;32m    794\u001b[0m             \u001b[1;31m# Generate sample-wise weight values given the `sample_weight` and\u001b[0m\u001b[1;33m\u001b[0m\u001b[1;33m\u001b[0m\u001b[0m\n",
      "\u001b[1;32m~\\Anaconda3\\lib\\site-packages\\keras\\engine\\training_utils.py\u001b[0m in \u001b[0;36mstandardize_input_data\u001b[1;34m(data, names, shapes, check_batch_axis, exception_prefix)\u001b[0m\n\u001b[0;32m    134\u001b[0m                             \u001b[1;34m': expected '\u001b[0m \u001b[1;33m+\u001b[0m \u001b[0mnames\u001b[0m\u001b[1;33m[\u001b[0m\u001b[0mi\u001b[0m\u001b[1;33m]\u001b[0m \u001b[1;33m+\u001b[0m \u001b[1;34m' to have shape '\u001b[0m \u001b[1;33m+\u001b[0m\u001b[1;33m\u001b[0m\u001b[0m\n\u001b[0;32m    135\u001b[0m                             \u001b[0mstr\u001b[0m\u001b[1;33m(\u001b[0m\u001b[0mshape\u001b[0m\u001b[1;33m)\u001b[0m \u001b[1;33m+\u001b[0m \u001b[1;34m' but got array with shape '\u001b[0m \u001b[1;33m+\u001b[0m\u001b[1;33m\u001b[0m\u001b[0m\n\u001b[1;32m--> 136\u001b[1;33m                             str(data_shape))\n\u001b[0m\u001b[0;32m    137\u001b[0m     \u001b[1;32mreturn\u001b[0m \u001b[0mdata\u001b[0m\u001b[1;33m\u001b[0m\u001b[0m\n\u001b[0;32m    138\u001b[0m \u001b[1;33m\u001b[0m\u001b[0m\n",
      "\u001b[1;31mValueError\u001b[0m: Error when checking target: expected fc to have shape (10,) but got array with shape (5,)"
     ]
    }
   ],
   "source": [
    "happyModel = HappyModel1(x_train.shape[1:])\n",
    "happyModel.compile('adam', 'binary_crossentropy', metrics=['accuracy'])\n",
    "happyModel.fit(x_train, y_train, epochs=1, batch_size=50)"
   ]
  },
  {
   "cell_type": "code",
   "execution_count": 22,
   "metadata": {},
   "outputs": [
    {
     "name": "stdout",
     "output_type": "stream",
     "text": [
      "x_train shape: (3000, 28, 28, 1)\n",
      "3000 train samples\n",
      "1000 test samples\n",
      "Train on 3000 samples, validate on 1000 samples\n",
      "Epoch 1/12\n",
      "3000/3000 [==============================] - 3s 1ms/step - loss: 1.6299 - acc: 0.6593 - val_loss: 1.0143 - val_acc: 0.7620\n",
      "Epoch 2/12\n",
      "3000/3000 [==============================] - 2s 826us/step - loss: 0.6340 - acc: 0.8487 - val_loss: 0.5557 - val_acc: 0.8310\n",
      "Epoch 3/12\n",
      "3000/3000 [==============================] - 3s 838us/step - loss: 0.4000 - acc: 0.8903 - val_loss: 0.4414 - val_acc: 0.8710\n",
      "Epoch 4/12\n",
      "3000/3000 [==============================] - 3s 842us/step - loss: 0.3213 - acc: 0.9130 - val_loss: 0.3761 - val_acc: 0.8850\n",
      "Epoch 5/12\n",
      "3000/3000 [==============================] - 3s 837us/step - loss: 0.2773 - acc: 0.9257 - val_loss: 0.3402 - val_acc: 0.9010\n",
      "Epoch 6/12\n",
      "3000/3000 [==============================] - 3s 869us/step - loss: 0.2442 - acc: 0.9350 - val_loss: 0.3221 - val_acc: 0.9020\n",
      "Epoch 7/12\n",
      "3000/3000 [==============================] - 3s 881us/step - loss: 0.2238 - acc: 0.9413 - val_loss: 0.3088 - val_acc: 0.9030\n",
      "Epoch 8/12\n",
      "3000/3000 [==============================] - 3s 1ms/step - loss: 0.2041 - acc: 0.9440 - val_loss: 0.2830 - val_acc: 0.9170\n",
      "Epoch 9/12\n",
      "3000/3000 [==============================] - 2s 801us/step - loss: 0.1836 - acc: 0.9497 - val_loss: 0.2738 - val_acc: 0.9190\n",
      "Epoch 10/12\n",
      "3000/3000 [==============================] - 2s 801us/step - loss: 0.1702 - acc: 0.9527 - val_loss: 0.2704 - val_acc: 0.9190\n",
      "Epoch 11/12\n",
      "3000/3000 [==============================] - 3s 872us/step - loss: 0.1549 - acc: 0.9580 - val_loss: 0.2691 - val_acc: 0.9170\n",
      "Epoch 12/12\n",
      "3000/3000 [==============================] - 2s 816us/step - loss: 0.1382 - acc: 0.9660 - val_loss: 0.2518 - val_acc: 0.9260\n",
      "Test loss: 0.25180383706092835\n",
      "Test accuracy: 0.926\n"
     ]
    }
   ],
   "source": [
    "from __future__ import print_function\n",
    "import keras\n",
    "from keras.datasets import mnist\n",
    "from keras.models import Sequential\n",
    "from keras.layers import Dense, Dropout, Flatten\n",
    "from keras.layers import Conv2D, MaxPooling2D\n",
    "from keras import backend as K\n",
    "\n",
    "batch_size = 128\n",
    "num_classes = 10\n",
    "epochs = 12\n",
    "\n",
    "# input image dimensions\n",
    "img_rows, img_cols = 28, 28\n",
    "\n",
    "# the data, split between train and test sets\n",
    "(x_train, y_train), (x_test, y_test) = mnist.load_data()\n",
    "\n",
    "x_train = x_train[0:3000,:,:]\n",
    "y_train = y_train[0:3000]\n",
    "x_test = x_test[0:1000,:,:]\n",
    "y_test = y_test[0:1000]\n",
    "\n",
    "# if K.image_data_format() == 'channels_first':\n",
    "#     x_train = x_train.reshape(x_train.shape[0], 1, img_rows, img_cols)\n",
    "#     x_test = x_test.reshape(x_test.shape[0], 1, img_rows, img_cols)\n",
    "#     input_shape = (1, img_rows, img_cols)\n",
    "# else:\n",
    "x_train = x_train.reshape(x_train.shape[0], img_rows, img_cols, 1)\n",
    "x_test = x_test.reshape(x_test.shape[0], img_rows, img_cols, 1)\n",
    "input_shape = (img_rows, img_cols, 1)\n",
    "\n",
    "x_train = x_train.astype('float32')\n",
    "x_test = x_test.astype('float32')\n",
    "x_train /= 255\n",
    "x_test /= 255\n",
    "print('x_train shape:', x_train.shape)\n",
    "print(x_train.shape[0], 'train samples')\n",
    "print(x_test.shape[0], 'test samples')\n",
    "\n",
    "# convert class vectors to binary class matrices\n",
    "y_train = keras.utils.to_categorical(y_train, num_classes)\n",
    "y_test = keras.utils.to_categorical(y_test, num_classes)\n",
    "\n",
    "model = Sequential()\n",
    "model.add(Conv2D(32, kernel_size=(3, 3),\n",
    "                 activation='relu',\n",
    "                 input_shape=input_shape))\n",
    "#model.add(Conv2D(64, (3, 3), activation='relu'))\n",
    "model.add(MaxPooling2D(pool_size=(2, 2)))\n",
    "#model.add(Dropout(0.25))\n",
    "model.add(Flatten())\n",
    "#model.add(Dense(128, activation='relu'))\n",
    "#model.add(Dropout(0.5))\n",
    "model.add(Dense(num_classes, activation='softmax'))\n",
    "\n",
    "model.compile(loss=keras.losses.categorical_crossentropy,\n",
    "              optimizer=keras.optimizers.Adam(),\n",
    "              metrics=['accuracy'])\n",
    "\n",
    "model.fit(x_train, y_train,\n",
    "          batch_size=batch_size,\n",
    "          epochs=epochs,\n",
    "          verbose=1,\n",
    "          validation_data=(x_test, y_test))\n",
    "score = model.evaluate(x_test, y_test, verbose=0)\n",
    "print('Test loss:', score[0])\n",
    "print('Test accuracy:', score[1])"
   ]
  },
  {
   "cell_type": "code",
   "execution_count": 3,
   "metadata": {},
   "outputs": [
    {
     "data": {
      "text/plain": [
       "'C:\\\\Users\\\\Marakhi\\\\Desktop\\\\Deep learning ajay bhammar\\\\Deep learning exercise'"
      ]
     },
     "execution_count": 3,
     "metadata": {},
     "output_type": "execute_result"
    }
   ],
   "source": [
    "import cv2\n",
    "import matplotlib.pyplot as plt\n",
    "import os\n",
    "from PIL import Image\n",
    "import glob\n",
    "os.getcwd()"
   ]
  },
  {
   "cell_type": "code",
   "execution_count": 4,
   "metadata": {},
   "outputs": [
    {
     "name": "stdout",
     "output_type": "stream",
     "text": [
      "(756, 35, 35, 3)\n",
      "(96, 35, 35, 3)\n"
     ]
    }
   ],
   "source": [
    "i = 0\n",
    "for filename in glob.glob('C:\\\\Users\\\\Marakhi\\\\Desktop\\\\Deep learning ajay bhammar\\\\Deep learning exercise\\\\Data\\\\train\\\\pb\\\\*.JPG'): \n",
    "    im=cv2.imread(filename)\n",
    "    if i == 0:\n",
    "        x_train=np.expand_dims(im, axis=0)\n",
    "        #plt.imshow(im)\n",
    "        im = np.fliplr(im)\n",
    "        x_train = np.concatenate((x_train, np.expand_dims(im, axis=0)), axis=0)\n",
    "        i=i+1\n",
    "    else:\n",
    "        x_train = np.concatenate((x_train, np.expand_dims(im, axis=0)), axis=0)\n",
    "        im = np.fliplr(im)\n",
    "        x_train = np.concatenate((x_train, np.expand_dims(im, axis=0)), axis=0)\n",
    "        \n",
    "for filename in glob.glob('C:\\\\Users\\\\Marakhi\\\\Desktop\\\\Deep learning ajay bhammar\\\\Deep learning exercise\\\\Data\\\\train\\\\pg\\\\*.JPG'): \n",
    "    im=cv2.imread(filename)\n",
    "    x_train = np.concatenate((x_train, np.expand_dims(im, axis=0)), axis=0)\n",
    "    im = np.fliplr(im)\n",
    "    x_train = np.concatenate((x_train, np.expand_dims(im, axis=0)), axis=0)\n",
    "\n",
    "for filename in glob.glob('C:\\\\Users\\\\Marakhi\\\\Desktop\\\\Deep learning ajay bhammar\\\\Deep learning exercise\\\\Data\\\\train\\\\pr\\\\*.JPG'): \n",
    "    im=cv2.imread(filename)\n",
    "    x_train = np.concatenate((x_train, np.expand_dims(im, axis=0)), axis=0)\n",
    "    im = np.fliplr(im)\n",
    "    x_train = np.concatenate((x_train, np.expand_dims(im, axis=0)), axis=0)\n",
    "    \n",
    "for filename in glob.glob('C:\\\\Users\\\\Marakhi\\\\Desktop\\\\Deep learning ajay bhammar\\\\Deep learning exercise\\\\Data\\\\train\\\\bb\\\\*.JPG'): \n",
    "    im=cv2.imread(filename)\n",
    "    x_train = np.concatenate((x_train, np.expand_dims(im, axis=0)), axis=0)\n",
    "    im = np.fliplr(im)\n",
    "    x_train = np.concatenate((x_train, np.expand_dims(im, axis=0)), axis=0)\n",
    "    \n",
    "for filename in glob.glob('C:\\\\Users\\\\Marakhi\\\\Desktop\\\\Deep learning ajay bhammar\\\\Deep learning exercise\\\\Data\\\\train\\\\bg\\\\*.JPG'): \n",
    "    im=cv2.imread(filename)\n",
    "    x_train = np.concatenate((x_train, np.expand_dims(im, axis=0)), axis=0)\n",
    "    im = np.fliplr(im)\n",
    "    x_train = np.concatenate((x_train, np.expand_dims(im, axis=0)), axis=0)\n",
    "\n",
    "for filename in glob.glob('C:\\\\Users\\\\Marakhi\\\\Desktop\\\\Deep learning ajay bhammar\\\\Deep learning exercise\\\\Data\\\\train\\\\br\\\\*.JPG'): \n",
    "    im=cv2.imread(filename)\n",
    "    x_train = np.concatenate((x_train, np.expand_dims(im, axis=0)), axis=0)\n",
    "    im = np.fliplr(im)\n",
    "    x_train = np.concatenate((x_train, np.expand_dims(im, axis=0)), axis=0)\n",
    "    \n",
    "i = 0\n",
    "for filename in glob.glob('C:\\\\Users\\\\Marakhi\\\\Desktop\\\\Deep learning ajay bhammar\\\\Deep learning exercise\\\\Data\\\\test\\\\pb\\\\*.JPG'): \n",
    "    im=cv2.imread(filename)\n",
    "    if i == 0:\n",
    "        x_test=np.expand_dims(im, axis=0)\n",
    "        i=i+1\n",
    "    else:\n",
    "        x_test = np.concatenate((x_test, np.expand_dims(im, axis=0)), axis=0)\n",
    "        \n",
    "for filename in glob.glob('C:\\\\Users\\\\Marakhi\\\\Desktop\\\\Deep learning ajay bhammar\\\\Deep learning exercise\\\\Data\\\\test\\\\pg\\\\*.JPG'): \n",
    "    im=cv2.imread(filename)\n",
    "    x_test = np.concatenate((x_test, np.expand_dims(im, axis=0)), axis=0)\n",
    "\n",
    "for filename in glob.glob('C:\\\\Users\\\\Marakhi\\\\Desktop\\\\Deep learning ajay bhammar\\\\Deep learning exercise\\\\Data\\\\test\\\\pr\\\\*.JPG'): \n",
    "    im=cv2.imread(filename)\n",
    "    x_test = np.concatenate((x_test, np.expand_dims(im, axis=0)), axis=0)\n",
    "    \n",
    "for filename in glob.glob('C:\\\\Users\\\\Marakhi\\\\Desktop\\\\Deep learning ajay bhammar\\\\Deep learning exercise\\\\Data\\\\test\\\\bb\\\\*.JPG'): \n",
    "    im=cv2.imread(filename)\n",
    "    x_test = np.concatenate((x_test, np.expand_dims(im, axis=0)), axis=0)\n",
    "\n",
    "for filename in glob.glob('C:\\\\Users\\\\Marakhi\\\\Desktop\\\\Deep learning ajay bhammar\\\\Deep learning exercise\\\\Data\\\\test\\\\bg\\\\*.JPG'): \n",
    "    im=cv2.imread(filename)\n",
    "    x_test = np.concatenate((x_test, np.expand_dims(im, axis=0)), axis=0)\n",
    "\n",
    "for filename in glob.glob('C:\\\\Users\\\\Marakhi\\\\Desktop\\\\Deep learning ajay bhammar\\\\Deep learning exercise\\\\Data\\\\test\\\\br\\\\*.JPG'): \n",
    "    im=cv2.imread(filename)\n",
    "    x_test = np.concatenate((x_test, np.expand_dims(im, axis=0)), axis=0)\n",
    "        \n",
    "\n",
    "x_train = x_train/255\n",
    "x_test = x_test/255\n",
    "\n",
    "print(x_train.shape)\n",
    "print(x_test.shape)\n"
   ]
  },
  {
   "cell_type": "code",
   "execution_count": 41,
   "metadata": {},
   "outputs": [
    {
     "name": "stdout",
     "output_type": "stream",
     "text": [
      "(756, 5)\n",
      "[1 0 0 1 0]\n",
      "(96, 5)\n",
      "[1 0 1 0 0]\n"
     ]
    }
   ],
   "source": [
    "# y_train = np.zeros(186*2, dtype=int)\n",
    "# y_train = np.concatenate((y_train, np.ones(192*2, dtype=int)), axis=None)\n",
    "# y_train = y_train.reshape((756, 1))\n",
    "# print(y_train.shape)\n",
    "\n",
    "# y_test = np.zeros(48, dtype=int)\n",
    "# y_test = np.concatenate((y_test, np.ones(48, dtype=int)), axis=None)\n",
    "# y_test = y_test.reshape((96, 1))\n",
    "# print(y_test.shape)\n",
    "\n",
    "y_train1 = np.tile([1,0,1,0,0],(62*2,1))\n",
    "y_train2 = np.tile([1,0,0,1,0],(62*2,1))\n",
    "y_train3 = np.tile([1,0,0,0,1],(62*2,1))\n",
    "y_train4 = np.tile([0,1,1,0,0],(64*2,1))\n",
    "y_train5 = np.tile([0,1,0,1,0],(64*2,1))\n",
    "y_train6 = np.tile([0,1,0,0,1],(64*2,1))\n",
    "\n",
    "y_train = np.concatenate((y_train1,y_train2,y_train3,y_train4,y_train5,y_train6))\n",
    "print(y_train.shape)\n",
    "print(y_train[130])\n",
    "\n",
    "y_test1 = np.tile([1,0,1,0,0],(16,1))\n",
    "y_test2 = np.tile([1,0,0,1,0],(16,1))\n",
    "y_test3 = np.tile([1,0,0,0,1],(16,1))\n",
    "y_test4 = np.tile([0,1,1,0,0],(16,1))\n",
    "y_test5 = np.tile([0,1,0,1,0],(16,1))\n",
    "y_test6 = np.tile([0,1,0,0,1],(16,1))\n",
    "\n",
    "y_test = np.concatenate((y_test1,y_test2,y_test3,y_test4,y_test5,y_test6))\n",
    "print(y_test.shape)\n",
    "print(y_test[15])"
   ]
  },
  {
   "cell_type": "code",
   "execution_count": 5,
   "metadata": {},
   "outputs": [
    {
     "name": "stdout",
     "output_type": "stream",
     "text": [
      "[0 0 0 0 0 0 0 0 0 0 0 0 0 0 0 0 0 0 0 0 0 0 0 0 0 0 0 0 0 0 0 0 0 0 0 0 0\n",
      " 0 0 0 0 0 0 0 0 0 0 0 0 0 0 0 0 0 0 0 0 0 0 0 0 0 0 0 0 0 0 0 0 0 0 0 0 0\n",
      " 0 0 0 0 0 0 0 0 0 0 0 0 0 0 0 0 0 0 0 0 0 0 0 0 0 0 0 0 0 0 0 0 0 0 0 0 0\n",
      " 0 0 0 0 0 0 0 0 0 0 0 0 0 0 0 0 0 0 0 0 0 0 0 0 0 0 0 0 0 0 0 0 0 0 0 0 0\n",
      " 0 0 0 0 0 0 0 0 0 0 0 0 0 0 0 0 0 0 0 0 0 0 0 0 0 0 0 0 0 0 0 0 0 0 0 0 0\n",
      " 0 0 0 0 0 0 0 0 0 0 0 0 0 0 0 0 0 0 0 0 0 0 0 0 0 0 0 0 0 0 0 0 0 0 0 0 0\n",
      " 0 0 0 0 0 0 0 0 0 0 0 0 0 0 0 0 0 0 0 0 0 0 0 0 0 0 0 0 0 0 0 0 0 0 0 0 0\n",
      " 0 0 0 0 0 0 0 0 0 0 0 0 0 0 0 0 0 0 0 0 0 0 0 0 0 0 0 0 0 0 0 0 0 0 0 0 0\n",
      " 0 0 0 0 0 0 0 0 0 0 0 0 0 0 0 0 0 0 0 0 0 0 0 0 0 0 0 0 0 0 0 0 0 0 0 0 0\n",
      " 0 0 0 0 0 0 0 0 0 0 0 0 0 0 0 0 0 0 0 0 0 0 0 0 0 0 0 0 0 0 0 0 0 0 0 0 0\n",
      " 0 0 1 1 1 1 1 1 1 1 1 1 1 1 1 1 1 1 1 1 1 1 1 1 1 1 1 1 1 1 1 1 1 1 1 1 1\n",
      " 1 1 1 1 1 1 1 1 1 1 1 1 1 1 1 1 1 1 1 1 1 1 1 1 1 1 1 1 1 1 1 1 1 1 1 1 1\n",
      " 1 1 1 1 1 1 1 1 1 1 1 1 1 1 1 1 1 1 1 1 1 1 1 1 1 1 1 1 1 1 1 1 1 1 1 1 1\n",
      " 1 1 1 1 1 1 1 1 1 1 1 1 1 1 1 1 1 1 1 1 1 1 1 1 1 1 1 1 1 1 1 1 1 1 1 1 1\n",
      " 1 1 1 1 1 1 1 1 1 1 1 1 1 1 1 1 1 1 1 1 1 1 1 1 1 1 1 1 1 1 1 1 1 1 1 1 1\n",
      " 1 1 1 1 1 1 1 1 1 1 1 1 1 1 1 1 1 1 1 1 1 1 1 1 1 1 1 1 1 1 1 1 1 1 1 1 1\n",
      " 1 1 1 1 1 1 1 1 1 1 1 1 1 1 1 1 1 1 1 1 1 1 1 1 1 1 1 1 1 1 1 1 1 1 1 1 1\n",
      " 1 1 1 1 1 1 1 1 1 1 1 1 1 1 1 1 1 1 1 1 1 1 1 1 1 1 1 1 1 1 1 1 1 1 1 1 1\n",
      " 1 1 1 1 1 1 1 1 1 1 1 1 1 1 1 1 1 1 1 1 1 1 1 1 1 1 1 1 1 1 1 1 1 1 1 1 1\n",
      " 1 1 1 1 1 1 1 1 1 1 1 1 1 1 1 1 1 1 1 1 1 1 1 1 1 1 1 1 1 1 1 1 1 1 1 1 1\n",
      " 1 1 1 1 1 1 1 1 1 1 1 1 1 1 1 1]\n",
      "(756,)\n",
      "[0 0 0 0 0 0 0 0 0 0 0 0 0 0 0 0 0 0 0 0 0 0 0 0 0 0 0 0 0 0 0 0 0 0 0 0 0\n",
      " 0 0 0 0 0 0 0 0 0 0 0 0 0 0 0 0 0 0 0 0 0 0 0 0 0 0 0 0 0 0 0 0 0 0 0 0 0\n",
      " 0 0 0 0 0 0 0 0 0 0 0 0 0 0 0 0 0 0 0 0 0 0 0 0 0 0 0 0 0 0 0 0 0 0 0 0 0\n",
      " 0 0 0 0 0 0 0 0 0 0 0 0 0 1 1 1 1 1 1 1 1 1 1 1 1 1 1 1 1 1 1 1 1 1 1 1 1\n",
      " 1 1 1 1 1 1 1 1 1 1 1 1 1 1 1 1 1 1 1 1 1 1 1 1 1 1 1 1 1 1 1 1 1 1 1 1 1\n",
      " 1 1 1 1 1 1 1 1 1 1 1 1 1 1 1 1 1 1 1 1 1 1 1 1 1 1 1 1 1 1 1 1 1 1 1 1 1\n",
      " 1 1 1 1 1 1 1 1 1 1 1 1 1 1 1 1 1 1 1 1 1 1 1 1 1 1 2 2 2 2 2 2 2 2 2 2 2\n",
      " 2 2 2 2 2 2 2 2 2 2 2 2 2 2 2 2 2 2 2 2 2 2 2 2 2 2 2 2 2 2 2 2 2 2 2 2 2\n",
      " 2 2 2 2 2 2 2 2 2 2 2 2 2 2 2 2 2 2 2 2 2 2 2 2 2 2 2 2 2 2 2 2 2 2 2 2 2\n",
      " 2 2 2 2 2 2 2 2 2 2 2 2 2 2 2 2 2 2 2 2 2 2 2 2 2 2 2 2 2 2 2 2 2 2 2 2 2\n",
      " 2 2 0 0 0 0 0 0 0 0 0 0 0 0 0 0 0 0 0 0 0 0 0 0 0 0 0 0 0 0 0 0 0 0 0 0 0\n",
      " 0 0 0 0 0 0 0 0 0 0 0 0 0 0 0 0 0 0 0 0 0 0 0 0 0 0 0 0 0 0 0 0 0 0 0 0 0\n",
      " 0 0 0 0 0 0 0 0 0 0 0 0 0 0 0 0 0 0 0 0 0 0 0 0 0 0 0 0 0 0 0 0 0 0 0 0 0\n",
      " 0 0 0 0 0 0 0 0 0 0 0 0 0 0 0 0 0 0 0 1 1 1 1 1 1 1 1 1 1 1 1 1 1 1 1 1 1\n",
      " 1 1 1 1 1 1 1 1 1 1 1 1 1 1 1 1 1 1 1 1 1 1 1 1 1 1 1 1 1 1 1 1 1 1 1 1 1\n",
      " 1 1 1 1 1 1 1 1 1 1 1 1 1 1 1 1 1 1 1 1 1 1 1 1 1 1 1 1 1 1 1 1 1 1 1 1 1\n",
      " 1 1 1 1 1 1 1 1 1 1 1 1 1 1 1 1 1 1 1 1 1 1 1 1 1 1 1 1 1 1 1 1 1 1 1 1 2\n",
      " 2 2 2 2 2 2 2 2 2 2 2 2 2 2 2 2 2 2 2 2 2 2 2 2 2 2 2 2 2 2 2 2 2 2 2 2 2\n",
      " 2 2 2 2 2 2 2 2 2 2 2 2 2 2 2 2 2 2 2 2 2 2 2 2 2 2 2 2 2 2 2 2 2 2 2 2 2\n",
      " 2 2 2 2 2 2 2 2 2 2 2 2 2 2 2 2 2 2 2 2 2 2 2 2 2 2 2 2 2 2 2 2 2 2 2 2 2\n",
      " 2 2 2 2 2 2 2 2 2 2 2 2 2 2 2 2]\n",
      "(756,)\n",
      "[0 0 0 0 0 0 0 0 0 0 0 0 0 0 0 0 0 0 0 0 0 0 0 0 0 0 0 0 0 0 0 0 0 0 0 0 0\n",
      " 0 0 0 0 0 0 0 0 0 0 0 1 1 1 1 1 1 1 1 1 1 1 1 1 1 1 1 1 1 1 1 1 1 1 1 1 1\n",
      " 1 1 1 1 1 1 1 1 1 1 1 1 1 1 1 1 1 1 1 1 1 1]\n",
      "(96,)\n",
      "[0 0 0 0 0 0 0 0 0 0 0 0 0 0 0 0 1 1 1 1 1 1 1 1 1 1 1 1 1 1 1 1 2 2 2 2 2\n",
      " 2 2 2 2 2 2 2 2 2 2 2 0 0 0 0 0 0 0 0 0 0 0 0 0 0 0 0 1 1 1 1 1 1 1 1 1 1\n",
      " 1 1 1 1 1 1 2 2 2 2 2 2 2 2 2 2 2 2 2 2 2 2]\n",
      "(96,)\n"
     ]
    }
   ],
   "source": [
    "y_train_p = np.tile([0],(62*6))\n",
    "y_train_b = np.tile([1],(64*6))\n",
    "y_train1 = np.concatenate((y_train_p,y_train_b))\n",
    "print(y_train1)\n",
    "print(y_train1.shape)\n",
    "\n",
    "y_train_bl = np.tile([0],(62*2))\n",
    "y_train_g = np.tile([1],(62*2))\n",
    "y_train_r = np.tile([2],(62*2))\n",
    "y_train_bl2 = np.tile([0],(64*2))\n",
    "y_train_g2 = np.tile([1],(64*2))\n",
    "y_train_r2 = np.tile([2],(64*2))\n",
    "y_train2 = np.concatenate((y_train_bl,y_train_g,y_train_r,y_train_bl2,y_train_g2,y_train_r2))\n",
    "print(y_train2)\n",
    "print(y_train2.shape)\n",
    "\n",
    "y_test_p = np.tile([0],(16*3))\n",
    "y_test_b = np.tile([1],(16*3))\n",
    "y_test1 = np.concatenate((y_test_p,y_test_b))\n",
    "print(y_test1)\n",
    "print(y_test1.shape)\n",
    "\n",
    "y_test_bl = np.tile([0],(16))\n",
    "y_test_g = np.tile([1],(16))\n",
    "y_test_r = np.tile([2],(16))\n",
    "y_test2 = np.concatenate((y_test_bl,y_test_g,y_test_r,y_test_bl,y_test_g,y_test_r))\n",
    "print(y_test2)\n",
    "print(y_test2.shape)"
   ]
  },
  {
   "cell_type": "code",
   "execution_count": 8,
   "metadata": {},
   "outputs": [],
   "source": [
    "cat_y1_train = to_categorical(y_train1, 2)\n",
    "cat_y2_train = to_categorical(y_train2, 3)\n",
    "cat_y1_test = to_categorical(y_test1, 2)\n",
    "cat_y2_test = to_categorical(y_test2, 3)\n",
    "#y_train = np.concatenate((cat_y1_train, cat_y2_train), axis=1)\n",
    "#y_test = np.concatenate((cat_y1_test, cat_y2_test), axis=1)\n",
    "#y_train.shape\n",
    "#y_test.shape"
   ]
  },
  {
   "cell_type": "code",
   "execution_count": 9,
   "metadata": {},
   "outputs": [],
   "source": [
    "def HappyModel(input_shape):\n",
    "    X_input = Input(input_shape)\n",
    "\n",
    "    X = ZeroPadding2D((3, 3))(X_input)\n",
    "\n",
    "    X = Conv2D(32, (3, 3), strides = (1, 1), name = 'conv0')(X)\n",
    "    X = BatchNormalization(axis = 3, name = 'bn0')(X)\n",
    "    X = Activation('relu')(X)\n",
    "    X = Conv2D(64, (3, 3), strides = (1, 1), name = 'conv1')(X)\n",
    "    X = BatchNormalization(axis = 3, name = 'bn1')(X)\n",
    "    X = Activation('relu')(X)\n",
    "    X = MaxPooling2D((2, 2), name='max_pool')(X)\n",
    "    X = Dropout(0.25)(X)\n",
    "    X = Flatten()(X)\n",
    "    y1 = Dense(2, activation='softmax')(X)\n",
    "    y2 = Dense(3, activation='softmax')(X)\n",
    "\n",
    "    model = Model(inputs = X_input, outputs = [y1, y2], name='HappyModel')\n",
    "    #model = Model(inputs = X_input, outputs = y2, name='HappyModel')\n",
    "\n",
    "    return model"
   ]
  },
  {
   "cell_type": "code",
   "execution_count": 10,
   "metadata": {},
   "outputs": [
    {
     "name": "stdout",
     "output_type": "stream",
     "text": [
      "Epoch 1/8\n",
      "756/756 [==============================] - 30s 39ms/step - loss: 3.2973 - dense_3_loss: 2.2096 - dense_4_loss: 1.0877 - dense_3_acc: 0.5622 - dense_4_acc: 0.7447\n",
      "Epoch 2/8\n",
      "756/756 [==============================] - 28s 37ms/step - loss: 0.9621 - dense_3_loss: 0.8990 - dense_4_loss: 0.0631 - dense_3_acc: 0.6958 - dense_4_acc: 0.9868\n",
      "Epoch 3/8\n",
      "756/756 [==============================] - 28s 36ms/step - loss: 0.4143 - dense_3_loss: 0.4142 - dense_4_loss: 1.0383e-04 - dense_3_acc: 0.8228 - dense_4_acc: 1.0000\n",
      "Epoch 4/8\n",
      "756/756 [==============================] - 28s 36ms/step - loss: 0.2614 - dense_3_loss: 0.2614 - dense_4_loss: 1.1984e-07 - dense_3_acc: 0.8862 - dense_4_acc: 1.0000\n",
      "Epoch 5/8\n",
      "756/756 [==============================] - 28s 36ms/step - loss: 0.1115 - dense_3_loss: 0.1115 - dense_4_loss: 1.5177e-07 - dense_3_acc: 0.9577 - dense_4_acc: 1.0000\n",
      "Epoch 6/8\n",
      "756/756 [==============================] - 28s 37ms/step - loss: 0.0690 - dense_3_loss: 0.0690 - dense_4_loss: 1.1937e-07 - dense_3_acc: 0.9735 - dense_4_acc: 1.0000\n",
      "Epoch 7/8\n",
      "756/756 [==============================] - 28s 37ms/step - loss: 0.0617 - dense_3_loss: 0.0617 - dense_4_loss: 1.1976e-07 - dense_3_acc: 0.9735 - dense_4_acc: 1.0000\n",
      "Epoch 8/8\n",
      "756/756 [==============================] - 28s 37ms/step - loss: 0.0478 - dense_3_loss: 0.0478 - dense_4_loss: 1.1929e-07 - dense_3_acc: 0.9828 - dense_4_acc: 1.0000\n",
      "Test loss: 0.1456528907486548\n",
      "Test accuracy: 0.14521982326793173\n",
      "Test accuracy: 0.00043307194331039983\n",
      "Test accuracy: 0.9479166666666666\n",
      "Test accuracy: 1.0\n"
     ]
    }
   ],
   "source": [
    "happyModel = HappyModel(x_train.shape[1:])\n",
    "happyModel.compile('adam', 'categorical_crossentropy', metrics=['accuracy'])\n",
    "happyModel.fit(x_train, [cat_y1_train, cat_y2_train], epochs=8, batch_size=150)\n",
    "#happyModel.fit(x_train, cat_y2_train, epochs=15, batch_size=150)\n",
    "score = happyModel.evaluate(x_test, [cat_y1_test, cat_y2_test], verbose=0)\n",
    "#score = happyModel.evaluate(x_test, cat_y2_test, verbose=1)\n",
    "print('Test loss:', score[0])\n",
    "print('Test accuracy:', score[1])\n",
    "print('Test accuracy:', score[2])\n",
    "print('Test accuracy:', score[3])\n",
    "print('Test accuracy:', score[4])"
   ]
  },
  {
   "cell_type": "code",
   "execution_count": 13,
   "metadata": {},
   "outputs": [
    {
     "name": "stdout",
     "output_type": "stream",
     "text": [
      "[1. 0. 0.]\n",
      "[array([[1., 0.]], dtype=float32), array([[1., 0., 0.]], dtype=float32)]\n"
     ]
    },
    {
     "data": {
      "image/png": "[encoded data removed]",
      "text/plain": [
       "<Figure size 432x288 with 1 Axes>"
      ]
     },
     "metadata": {},
     "output_type": "display_data"
    }
   ],
   "source": [
    "### START CODE HERE ###\n",
    "img_path = 'C:\\\\Users\\\\Marakhi\\\\Desktop\\\\Deep learning ajay bhammar\\\\Deep learning exercise\\\\Data\\\\test\\\\pb\\\\218.JPG'\n",
    "# ### END CODE HERE ###\n",
    "img = image.load_img(img_path, target_size=(35, 35))\n",
    "#img = x_test[0]\n",
    "print(cat_y2_test[0])\n",
    "imshow(img)\n",
    "#imshow(x_test[0])\n",
    "\n",
    "x = image.img_to_array(img)\n",
    "x = np.expand_dims(x, axis=0)\n",
    "#x = preprocess_input(x)\n",
    "\n",
    "print(happyModel.predict(x))"
   ]
  },
  {
   "cell_type": "code",
   "execution_count": 25,
   "metadata": {},
   "outputs": [
    {
     "name": "stdout",
     "output_type": "stream",
     "text": [
      "['loss', 'dense_5_loss', 'dense_6_loss', 'dense_5_acc', 'dense_6_acc']\n"
     ]
    }
   ],
   "source": [
    "print(happyModel.metrics_names)"
   ]
  },
  {
   "cell_type": "code",
   "execution_count": 11,
   "metadata": {},
   "outputs": [
    {
     "name": "stdout",
     "output_type": "stream",
     "text": [
      "[1. 0. 0.]\n"
     ]
    }
   ],
   "source": [
    "print(cat_y2_test[0])"
   ]
  },
  {
   "cell_type": "code",
   "execution_count": null,
   "metadata": {},
   "outputs": [],
   "source": []
  }
 ],
 "metadata": {
  "kernelspec": {
   "display_name": "Python 3",
   "language": "python",
   "name": "python3"
  },
  "language_info": {
   "codemirror_mode": {
    "name": "ipython",
    "version": 3
   },
   "file_extension": ".py",
   "mimetype": "text/x-python",
   "name": "python",
   "nbconvert_exporter": "python",
   "pygments_lexer": "ipython3",
   "version": "3.6.5"
  }
 },
 "nbformat": 4,
 "nbformat_minor": 2
}
